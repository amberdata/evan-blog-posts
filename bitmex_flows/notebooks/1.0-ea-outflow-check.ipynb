{
 "cells": [
  {
   "cell_type": "markdown",
   "metadata": {},
   "source": [
    "## Creates the Outflow Graph"
   ]
  },
  {
   "cell_type": "code",
   "execution_count": null,
   "metadata": {},
   "outputs": [],
   "source": [
    "import os\n",
    "import json\n",
    "import requests\n",
    "import datetime\n",
    "import pandas as pd\n",
    "import matplotlib.pyplot as plt"
   ]
  },
  {
   "cell_type": "code",
   "execution_count": null,
   "metadata": {},
   "outputs": [],
   "source": [
    "def start_end_time():\n",
    "    endTime = datetime.datetime.now()\n",
    "    startTime = endTime - datetime.timedelta(30)\n",
    "\n",
    "    endTime = str(int(endTime.timestamp()))\n",
    "    startTime = str(int(startTime.timestamp()))\n",
    "    return startTime, endTime\n",
    "\n",
    "def get_response(url, headers=None, queryString=None):\n",
    "    \"Get the REST response from the specified URL\"\n",
    "    if not headers:\n",
    "        headers = {'x-api-key': api_key}\n",
    "    if queryString:\n",
    "        response = requests.request(\"GET\", url, headers=headers, params=queryString)\n",
    "    else:\n",
    "        response = requests.request(\"GET\", url, headers=headers)\n",
    "    response = json.loads(response.text)\n",
    "    try:\n",
    "        if response[\"title\"] == \"OK\":\n",
    "            return response[\"payload\"]\n",
    "    except Exception:\n",
    "        print(response)\n",
    "        return None\n",
    "    \n",
    "def reindex(data, index):\n",
    "    \"\"\" Returns the DataFrame calculated w/ inflow & outflow\n",
    "    :type data: DataFrame\n",
    "    :type index: List[int]\n",
    "    :rtype: DataFrame\n",
    "    \"\"\"\n",
    "    d = np.digitize(data.timestamp.values, index)\n",
    "    g = data[[\"inflow\", \"outflow\"]].groupby(d).sum()\n",
    "    g = g.reindex(range(24*30), fill_value=0)\n",
    "    g.index = index\n",
    "    return g\n",
    "\n",
    "def inflow_outflow(data: dict):\n",
    "    \"Returns the inflow and outflow of the payload\"\n",
    "    # get the column names\n",
    "    columns = data[\"metadata\"][\"columns\"]\n",
    "    # load the data, dropping timestampNano\n",
    "    ad_hist = pd.DataFrame(data[\"data\"], columns=columns).drop(\"timestampNanoseconds\", axis=1)\n",
    "    # change dtype of appropriate columns to Int\n",
    "    ad_hist[[\"blockNumber\", \"timestamp\", \"value\"]] = ad_hist[[\"blockNumber\", \"timestamp\", \"value\"]].apply(pd.to_numeric)\n",
    "    # sort by blockNum desc\n",
    "    ad_hist = ad_hist.sort_values(\"timestamp\").reset_index(drop=True)\n",
    "    # calculate inflow and outflow\n",
    "    ad_hist[\"diff\"] = ad_hist[\"value\"].diff()\n",
    "    ad_hist[\"inflow\"] = np.where(ad_hist[\"diff\"] > 0, ad_hist[\"diff\"], 0)\n",
    "    ad_hist[\"outflow\"] = np.where(ad_hist[\"diff\"] < 0, abs(ad_hist[\"diff\"]), 0)\n",
    "    # return the result\n",
    "    return ad_hist\n",
    "    \n",
    "def daily_inflow_outflow(address, headers, querystring):\n",
    "    url = \"https://web3api.io/api/v2/addresses/\" + address + \"/account-balances/historical\"\n",
    "    try:\n",
    "        payload = get_response(url=url, headers=headers, queryString=querystring)\n",
    "    except Exception:\n",
    "        return None\n",
    "    if len(payload[\"data\"]) > 1:   # if there is activity in the period\n",
    "        # calculate inflow / outflow\n",
    "        data = inflow_outflow(payload)\n",
    "        # get in the format to merge with master inflow/outflow data\n",
    "        g = reindex(data, index)\n",
    "        return g"
   ]
  },
  {
   "cell_type": "code",
   "execution_count": null,
   "metadata": {},
   "outputs": [],
   "source": [
    "startTime, endTime = start_end_time()\n",
    "index = [10**3*(int(startTime) + i*60**2) for i in range(24*30)]\n",
    "\n",
    "querystring = {\"startDate\": startTime,\n",
    "               \"endDate\": endTime\n",
    "              }\n",
    "\n",
    "headers = {\n",
    "    'x-amberdata-blockchain-id': \"bitcoin-mainnet\",\n",
    "    'x-api-key': os.getenv(\"AMBERDATA_API_KEY\")\n",
    "}\n",
    "\n",
    "df = pd.read_csv(\"../input/addresses_all.csv\")\n",
    "# check if we are running the full calculation\n",
    "addresses = df.Address.values"
   ]
  },
  {
   "cell_type": "code",
   "execution_count": null,
   "metadata": {},
   "outputs": [],
   "source": [
    "activ = []\n",
    "i = 0\n",
    "\n",
    "while len(activ) < 30:\n",
    "    url = \"https://web3api.io/api/v2/addresses/\" + addresses[i] + \"/account-balances/historical\"\n",
    "    try:\n",
    "        payload = get_response(url=url, headers=headers, queryString=querystring)\n",
    "    except Exception:\n",
    "        pass\n",
    "    i += 1\n",
    "    if len(payload[\"data\"]) > 1:   # if there is activity in the period\n",
    "        # calculate inflow / outflow\n",
    "        data = inflow_outflow(payload)\n",
    "        # get in the format to merge with master inflow/outflow data\n",
    "        g = reindex(data, index)\n",
    "        g.index = [datetime.datetime.fromtimestamp(i//10**3) for i in g.index.values]\n",
    "        activ.append(g)"
   ]
  },
  {
   "cell_type": "code",
   "execution_count": null,
   "metadata": {},
   "outputs": [],
   "source": [
    "N = 30\n",
    "data = [i.outflow for i in activ[:N]]\n",
    "\n",
    "for i in range(len(data)):\n",
    "    plt.plot(data[i])\n",
    "    \n",
    "plt.title(f\"BitMEX Outflows timing-{N} Addresses\")"
   ]
  },
  {
   "cell_type": "code",
   "execution_count": null,
   "metadata": {},
   "outputs": [],
   "source": [
    "combined = pd.DataFrame(data).T\n",
    "combined.columns = [str(i) for i in range(N)]\n",
    "combined.head()"
   ]
  }
 ],
 "metadata": {
  "kernelspec": {
   "display_name": "Python 3.7.7 64-bit ('amberdata': venv)",
   "language": "python",
   "name": "python37764bitamberdatavenv6eb9815684054413851f0606c6f4ebfd"
  },
  "language_info": {
   "codemirror_mode": {
    "name": "ipython",
    "version": 3
   },
   "file_extension": ".py",
   "mimetype": "text/x-python",
   "name": "python",
   "nbconvert_exporter": "python",
   "pygments_lexer": "ipython3",
   "version": "3.7.7"
  }
 },
 "nbformat": 4,
 "nbformat_minor": 4
}
