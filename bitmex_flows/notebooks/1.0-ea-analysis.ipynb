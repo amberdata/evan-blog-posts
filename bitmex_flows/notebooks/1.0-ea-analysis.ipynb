{
 "cells": [
  {
   "cell_type": "code",
   "execution_count": null,
   "metadata": {},
   "outputs": [],
   "source": [
    "import os\n",
    "import json\n",
    "import requests\n",
    "import datetime\n",
    "import numpy as np\n",
    "import pandas as pd\n",
    "import matplotlib.pyplot as plt\n",
    "import matplotlib.dates as mdates"
   ]
  },
  {
   "cell_type": "code",
   "execution_count": null,
   "metadata": {},
   "outputs": [],
   "source": [
    "# read the data\n",
    "data = pd.read_csv(\"../results/inf_outf.csv\", index_col=0)\n",
    "# convert index to datetime\n",
    "data.index = pd.to_datetime(data.index)"
   ]
  },
  {
   "cell_type": "code",
   "execution_count": null,
   "metadata": {},
   "outputs": [],
   "source": [
    "# let's look at inflow/outflow and price\n",
    "data.drop(columns=[\"volume\", \"inflow\", \"outflow\"]).plot()\n",
    "plt.title(\"BTC Price and Net Inflow/Outflow\")\n",
    "plt.legend([\"Net\", \"BTC\"])\n",
    "plt.grid(True)"
   ]
  },
  {
   "cell_type": "code",
   "execution_count": null,
   "metadata": {},
   "outputs": [],
   "source": [
    "# calculate the daily change\n",
    "diff = data.net.diff()\n",
    "# the standard deviation in daily change\n",
    "s = diff.std()\n",
    "\n",
    "# let's observe the variances in change in net in/out\n",
    "diff.plot.hist(bins=30)\n",
    "for i in range(3):\n",
    "    plt.axvline(s*(1+i), color='r')\n",
    "    plt.axvline(s*(-(i+1)), color='r')\n",
    "    \n",
    "plt.title(\"Standard deviations on close diff\")\n",
    "plt.xticks([s*(-(1+i)) for i in reversed(range(3))] + [s*(1+i) for i in range(3)], rotation=45)\n",
    "#plt.xlim(-20000, 20000)\n",
    "plt.show()"
   ]
  },
  {
   "cell_type": "code",
   "execution_count": null,
   "metadata": {},
   "outputs": [],
   "source": [
    "sigma = 3*s      # what we consider anomolous inflow/outflow\n",
    "\n",
    "# calculating days of large than average net flow\n",
    "data[\"net_diff\"] = data.net.diff().fillna(0)\n",
    "data[\"anom\"] = np.where(abs(data.net_diff) > sigma, 1, 0)\n",
    "\n",
    "print(\"{:.3f}\".format(100*(1-sum(data.anom)/len(data))) + \"% non-anomolous days\")"
   ]
  },
  {
   "cell_type": "code",
   "execution_count": null,
   "metadata": {},
   "outputs": [],
   "source": [
    "months = mdates.MonthLocator()\n",
    "monthsFmt = mdates.DateFormatter('%b')\n",
    "weeks = mdates.WeekdayLocator()\n",
    "\n",
    "fig, ax = plt.subplots()\n",
    "\n",
    "ax.plot(data.close, color=\"goldenrod\", lw=1.25)\n",
    "\n",
    "# add the high inflow/outflow days\n",
    "for i in data.index[data.anom==1]:\n",
    "    if data.loc[i].net > 0:\n",
    "        ax.axvline(i, color='g', alpha=0.7)\n",
    "    else:\n",
    "        ax.axvline(i, color='r', alpha=0.7)\n",
    "    \n",
    "# set the ticks\n",
    "ax.xaxis.set_major_locator(months)\n",
    "ax.xaxis.set_major_formatter(monthsFmt)\n",
    "ax.xaxis.set_minor_locator(weeks)\n",
    "\n",
    "# add grid\n",
    "ax.grid(True)\n",
    "ax.set_title(\"High Inflow/Outflow on BTC Price\")\n",
    "# format ticks\n",
    "fig.autofmt_xdate()\n",
    "ax.legend([\"BTC\"])\n",
    "plt.show()"
   ]
  },
  {
   "cell_type": "markdown",
   "metadata": {},
   "source": [
    "## Looking for Whales"
   ]
  },
  {
   "cell_type": "code",
   "execution_count": null,
   "metadata": {},
   "outputs": [],
   "source": [
    "with open(\"../results/tot_activity.json\", \"r\") as f:\n",
    "    inp = f.read()\n",
    "    \n",
    "act = json.loads(inp)"
   ]
  },
  {
   "cell_type": "code",
   "execution_count": null,
   "metadata": {},
   "outputs": [],
   "source": [
    "def format_activity(d):\n",
    "    d = json.loads(d)\n",
    "    df = pd.DataFrame(d).reset_index()\n",
    "    time = pd.to_numeric(df[\"index\"])\n",
    "    df.index = [datetime.datetime.fromtimestamp(t//10**3) for t in time]\n",
    "    df = df.drop([\"index\"], axis=1)\n",
    "    return df"
   ]
  },
  {
   "cell_type": "code",
   "execution_count": null,
   "metadata": {},
   "outputs": [],
   "source": [
    "all_activity = {key: format_activity(val) for key, val in act.items() if val}"
   ]
  },
  {
   "cell_type": "code",
   "execution_count": null,
   "metadata": {
    "scrolled": true
   },
   "outputs": [],
   "source": [
    "infs, outfs = [0]*len(all_activity.keys()), [0]*len(all_activity.keys())\n",
    "i = 0\n",
    "\n",
    "for key, val in all_activity.items():\n",
    "    infs[i] = val.inflow.sum()\n",
    "    outfs[i] = val.outflow.sum()\n",
    "    i += 1"
   ]
  },
  {
   "cell_type": "code",
   "execution_count": null,
   "metadata": {},
   "outputs": [],
   "source": [
    "tot_flows = pd.DataFrame({\"inf tot\":infs, \"outf tot\":outfs}, index=all_activity.keys())"
   ]
  },
  {
   "cell_type": "code",
   "execution_count": null,
   "metadata": {},
   "outputs": [],
   "source": [
    "tot_flows.sort_values(by=[\"inf tot\"], ascending=False).plot()"
   ]
  },
  {
   "cell_type": "code",
   "execution_count": null,
   "metadata": {},
   "outputs": [],
   "source": [
    "tot_flows[\"outf tot\"].plot()"
   ]
  },
  {
   "cell_type": "markdown",
   "metadata": {},
   "source": [
    "Look at BitMEX vs. BMEX"
   ]
  }
 ],
 "metadata": {
  "kernelspec": {
   "display_name": "Python 3.7.7 64-bit ('amberdata': venv)",
   "language": "python",
   "name": "python37764bitamberdatavenv6eb9815684054413851f0606c6f4ebfd"
  },
  "language_info": {
   "codemirror_mode": {
    "name": "ipython",
    "version": 3
   },
   "file_extension": ".py",
   "mimetype": "text/x-python",
   "name": "python",
   "nbconvert_exporter": "python",
   "pygments_lexer": "ipython3",
   "version": "3.7.7"
  }
 },
 "nbformat": 4,
 "nbformat_minor": 4
}
