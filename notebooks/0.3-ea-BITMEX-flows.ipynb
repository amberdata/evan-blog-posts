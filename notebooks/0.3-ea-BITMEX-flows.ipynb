{
 "cells": [
  {
   "cell_type": "markdown",
   "metadata": {},
   "source": [
    "# BitMEX Wallets in/outflow\n",
    "Date: 5/20/20  \n",
    "Author: Evan Azevedo  \n",
    "Organization: Amberdata  \n",
    "\n",
    "## Description\n",
    "Exploring the question: observing the in/outflows from BitMEX wallets, is there some impact on price? \n",
    "\n",
    "## Research Question\n",
    "Does the inflow of money into BitMEX wallets have any correlation with the price?\n",
    "\n",
    "### Key information\n",
    "* All wallet addresses start with BMEX (I think those are motor bikes?)\n",
    "* BitMEX have a single daily withdraw. So these wallets can take a lot of deposits, but limited withdraw - similar to a High Yield Savings acct."
   ]
  },
  {
   "cell_type": "code",
   "execution_count": 117,
   "metadata": {},
   "outputs": [],
   "source": [
    "# import the packages\n",
    "import os\n",
    "import requests\n",
    "import json\n",
    "import datetime\n",
    "import matplotlib.pyplot as plt\n",
    "from dotenv import load_dotenv\n",
    "import pandas as pd\n",
    "import numpy as np\n",
    "import tqdm\n",
    "\n",
    "N = 30 # Number of days to consider"
   ]
  },
  {
   "cell_type": "code",
   "execution_count": 75,
   "metadata": {},
   "outputs": [],
   "source": [
    "def get_key():\n",
    "    \"Get the API key from an .env file\"\n",
    "    if \".env\" not in os.listdir(\"../\"):\n",
    "        print(\"Configuring API Key...\")\n",
    "        key = input(\"Amberdata API Key: \")\n",
    "        with open(\".env\", \"w\") as f:\n",
    "            f.write(f\"AMBERDATA_API_KEY={key}\\n\")\n",
    "\n",
    "    load_dotenv(verbose=True)\n",
    "\n",
    "    return {\n",
    "        \"AMBERDATA_API_KEY\": os.getenv(\"AMBERDATA_API_KEY\"),\n",
    "        \"AWS_ACCESS_KEY\": os.getenv(\"AWS_ACCESS_KEY\"),\n",
    "        \"AWS_SECRET_KEY\": os.getenv(\"AWS_SECRET_KEY\")\n",
    "    }\n",
    "\n",
    "api_key = get_key()[\"AMBERDATA_API_KEY\"]"
   ]
  },
  {
   "cell_type": "code",
   "execution_count": 76,
   "metadata": {},
   "outputs": [],
   "source": [
    "def get_response(url, headers=None, queryString=None):\n",
    "    \"Get the REST response from the specified URL\"\n",
    "    if not headers:\n",
    "        headers = {'x-api-key': api_key}\n",
    "    if queryString:\n",
    "        response = requests.request(\"GET\", url, headers=headers, params=queryString)\n",
    "    else:\n",
    "        response = requests.request(\"GET\", url, headers=headers)\n",
    "    response = json.loads(response.text)\n",
    "    if response[\"title\"] == \"OK\":\n",
    "        return response[\"payload\"]\n",
    "    else:\n",
    "        print(\"Unsuccessful request.\")"
   ]
  },
  {
   "cell_type": "code",
   "execution_count": 105,
   "metadata": {},
   "outputs": [],
   "source": [
    "def inflow_outflow(data: dict):\n",
    "    \"Returns the inflow and outflow of the payload\"\n",
    "    # get the column names\n",
    "    columns = data[\"metadata\"][\"columns\"]\n",
    "    # load the data, dropping timestampNano\n",
    "    ad_hist = pd.DataFrame(data[\"data\"], columns=columns).drop(\"timestampNanoseconds\", axis=1)\n",
    "    # change dtype of appropriate columns to Int\n",
    "    ad_hist[[\"blockNumber\", \"timestamp\", \"value\"]] = ad_hist[[\"blockNumber\", \"timestamp\", \"value\"]].apply(pd.to_numeric)\n",
    "    # sort by blockNum desc\n",
    "    ad_hist = ad_hist.sort_values(\"timestamp\").reset_index(drop=True)\n",
    "    # calculate inflow and outflow\n",
    "    ad_hist[\"diff\"] = ad_hist[\"value\"].diff()\n",
    "    ad_hist[\"inflow\"] = np.where(ad_hist[\"diff\"] > 0, ad_hist[\"diff\"], 0)\n",
    "    ad_hist[\"outflow\"] = np.where(ad_hist[\"diff\"] < 0, abs(ad_hist[\"diff\"]), 0)\n",
    "    # return the result\n",
    "    return ad_hist.inflow.values, ad_hist.outflow.values"
   ]
  },
  {
   "cell_type": "code",
   "execution_count": 77,
   "metadata": {},
   "outputs": [],
   "source": [
    "df = pd.read_excel(\"/Users/evanazevedo/Downloads/Cluster_addresses_of_Bitmex.xlsx\", header=12, skipfooter=3)"
   ]
  },
  {
   "cell_type": "code",
   "execution_count": 139,
   "metadata": {},
   "outputs": [],
   "source": [
    "endTime = datetime.datetime.now()\n",
    "startTime = endTime - datetime.timedelta(N)\n",
    "\n",
    "endTime = str(int(endTime.timestamp()))\n",
    "startTime = str(int(startTime.timestamp()))\n",
    "\n",
    "querystring = {\"startDate\": startTime,\n",
    "               \"endDate\": endTime}\n",
    "\n",
    "headers = {\n",
    "    'x-amberdata-blockchain-id': \"bitcoin-mainnet\",\n",
    "    'x-api-key': api_key\n",
    "}\n",
    "\n",
    "index = [10**3*(int(startTime) + i*24*60**2) for i in range(N)]\n",
    "columns = [\"inflow\", \"outflow\"]\n",
    "gross_daily = pd.DataFrame(index=index, columns=columns)"
   ]
  },
  {
   "cell_type": "code",
   "execution_count": 140,
   "metadata": {},
   "outputs": [
    {
     "name": "stdout",
     "output_type": "stream",
     "text": [
      "              inflow outflow\n",
      "1588037584000    NaN     NaN\n",
      "1588123984000    NaN     NaN\n",
      "1588210384000    NaN     NaN\n",
      "1588296784000    NaN     NaN\n",
      "1588383184000    NaN     NaN\n",
      "1588469584000    NaN     NaN\n",
      "1588555984000    NaN     NaN\n",
      "1588642384000    NaN     NaN\n",
      "1588728784000    NaN     NaN\n",
      "1588815184000    NaN     NaN\n",
      "1588901584000    NaN     NaN\n",
      "1588987984000    NaN     NaN\n",
      "1589074384000    NaN     NaN\n",
      "1589160784000    NaN     NaN\n",
      "1589247184000    NaN     NaN\n",
      "1589333584000    NaN     NaN\n",
      "1589419984000    NaN     NaN\n",
      "1589506384000    NaN     NaN\n",
      "1589592784000    NaN     NaN\n",
      "1589679184000    NaN     NaN\n",
      "1589765584000    NaN     NaN\n",
      "1589851984000    NaN     NaN\n",
      "1589938384000    NaN     NaN\n",
      "1590024784000    NaN     NaN\n",
      "1590111184000    NaN     NaN\n",
      "1590197584000    NaN     NaN\n",
      "1590283984000    NaN     NaN\n",
      "1590370384000    NaN     NaN\n",
      "1590456784000    NaN     NaN\n",
      "1590543184000    NaN     NaN\n"
     ]
    }
   ],
   "source": [
    "print(gross_daily)"
   ]
  },
  {
   "cell_type": "code",
   "execution_count": 143,
   "metadata": {},
   "outputs": [],
   "source": [
    "d = np.digitize(ad_hist.timestamp.values, index)"
   ]
  },
  {
   "cell_type": "code",
   "execution_count": 149,
   "metadata": {},
   "outputs": [],
   "source": [
    "g = ad_hist[[\"inflow\", \"outflow\"]].groupby(d).sum()\n",
    "g[\"net\"] = g[\"inflow\"] - g[\"outflow\"]"
   ]
  },
  {
   "cell_type": "code",
   "execution_count": 154,
   "metadata": {},
   "outputs": [
    {
     "data": {
      "text/html": [
       "<div>\n",
       "<style scoped>\n",
       "    .dataframe tbody tr th:only-of-type {\n",
       "        vertical-align: middle;\n",
       "    }\n",
       "\n",
       "    .dataframe tbody tr th {\n",
       "        vertical-align: top;\n",
       "    }\n",
       "\n",
       "    .dataframe thead th {\n",
       "        text-align: right;\n",
       "    }\n",
       "</style>\n",
       "<table border=\"1\" class=\"dataframe\">\n",
       "  <thead>\n",
       "    <tr style=\"text-align: right;\">\n",
       "      <th></th>\n",
       "      <th>inflow</th>\n",
       "      <th>outflow</th>\n",
       "      <th>net</th>\n",
       "    </tr>\n",
       "  </thead>\n",
       "  <tbody>\n",
       "    <tr>\n",
       "      <th>0</th>\n",
       "      <td>128140172.0</td>\n",
       "      <td>125164399.0</td>\n",
       "      <td>2975773.0</td>\n",
       "    </tr>\n",
       "    <tr>\n",
       "      <th>2</th>\n",
       "      <td>0.0</td>\n",
       "      <td>7780484.0</td>\n",
       "      <td>-7780484.0</td>\n",
       "    </tr>\n",
       "    <tr>\n",
       "      <th>3</th>\n",
       "      <td>4199232.0</td>\n",
       "      <td>3102562.0</td>\n",
       "      <td>1096670.0</td>\n",
       "    </tr>\n",
       "    <tr>\n",
       "      <th>4</th>\n",
       "      <td>0.0</td>\n",
       "      <td>1058225.0</td>\n",
       "      <td>-1058225.0</td>\n",
       "    </tr>\n",
       "    <tr>\n",
       "      <th>5</th>\n",
       "      <td>894838.0</td>\n",
       "      <td>184271.0</td>\n",
       "      <td>710567.0</td>\n",
       "    </tr>\n",
       "    <tr>\n",
       "      <th>6</th>\n",
       "      <td>0.0</td>\n",
       "      <td>717370.0</td>\n",
       "      <td>-717370.0</td>\n",
       "    </tr>\n",
       "    <tr>\n",
       "      <th>7</th>\n",
       "      <td>7899499.0</td>\n",
       "      <td>0.0</td>\n",
       "      <td>7899499.0</td>\n",
       "    </tr>\n",
       "    <tr>\n",
       "      <th>8</th>\n",
       "      <td>5316852.0</td>\n",
       "      <td>7933944.0</td>\n",
       "      <td>-2617092.0</td>\n",
       "    </tr>\n",
       "    <tr>\n",
       "      <th>9</th>\n",
       "      <td>1007115.0</td>\n",
       "      <td>5294015.0</td>\n",
       "      <td>-4286900.0</td>\n",
       "    </tr>\n",
       "    <tr>\n",
       "      <th>10</th>\n",
       "      <td>2339128.0</td>\n",
       "      <td>465666.0</td>\n",
       "      <td>1873462.0</td>\n",
       "    </tr>\n",
       "    <tr>\n",
       "      <th>11</th>\n",
       "      <td>0.0</td>\n",
       "      <td>1177641.0</td>\n",
       "      <td>-1177641.0</td>\n",
       "    </tr>\n",
       "    <tr>\n",
       "      <th>13</th>\n",
       "      <td>701801.0</td>\n",
       "      <td>0.0</td>\n",
       "      <td>701801.0</td>\n",
       "    </tr>\n",
       "    <tr>\n",
       "      <th>14</th>\n",
       "      <td>0.0</td>\n",
       "      <td>2364227.0</td>\n",
       "      <td>-2364227.0</td>\n",
       "    </tr>\n",
       "    <tr>\n",
       "      <th>18</th>\n",
       "      <td>1646840.0</td>\n",
       "      <td>0.0</td>\n",
       "      <td>1646840.0</td>\n",
       "    </tr>\n",
       "    <tr>\n",
       "      <th>25</th>\n",
       "      <td>897473.0</td>\n",
       "      <td>509646.0</td>\n",
       "      <td>387827.0</td>\n",
       "    </tr>\n",
       "    <tr>\n",
       "      <th>26</th>\n",
       "      <td>4997875.0</td>\n",
       "      <td>5008889.0</td>\n",
       "      <td>-11014.0</td>\n",
       "    </tr>\n",
       "    <tr>\n",
       "      <th>27</th>\n",
       "      <td>0.0</td>\n",
       "      <td>2087000.0</td>\n",
       "      <td>-2087000.0</td>\n",
       "    </tr>\n",
       "  </tbody>\n",
       "</table>\n",
       "</div>"
      ],
      "text/plain": [
       "         inflow      outflow        net\n",
       "0   128140172.0  125164399.0  2975773.0\n",
       "2           0.0    7780484.0 -7780484.0\n",
       "3     4199232.0    3102562.0  1096670.0\n",
       "4           0.0    1058225.0 -1058225.0\n",
       "5      894838.0     184271.0   710567.0\n",
       "6           0.0     717370.0  -717370.0\n",
       "7     7899499.0          0.0  7899499.0\n",
       "8     5316852.0    7933944.0 -2617092.0\n",
       "9     1007115.0    5294015.0 -4286900.0\n",
       "10    2339128.0     465666.0  1873462.0\n",
       "11          0.0    1177641.0 -1177641.0\n",
       "13     701801.0          0.0   701801.0\n",
       "14          0.0    2364227.0 -2364227.0\n",
       "18    1646840.0          0.0  1646840.0\n",
       "25     897473.0     509646.0   387827.0\n",
       "26    4997875.0    5008889.0   -11014.0\n",
       "27          0.0    2087000.0 -2087000.0"
      ]
     },
     "execution_count": 154,
     "metadata": {},
     "output_type": "execute_result"
    }
   ],
   "source": [
    "g"
   ]
  },
  {
   "cell_type": "code",
   "execution_count": 111,
   "metadata": {
    "scrolled": true
   },
   "outputs": [
    {
     "name": "stderr",
     "output_type": "stream",
     "text": [
      "100%|██████████| 100/100 [00:51<00:00,  1.92it/s]\n"
     ]
    }
   ],
   "source": [
    "addresses = df.iloc[:100].Address.values\n",
    "\n",
    "for address in tqdm.tqdm(addresses):\n",
    "    url = \"https://web3api.io/api/v2/addresses/\" + address + \"/account-balances/historical\"\n",
    "    payload = get_response(url=url, headers=headers, queryString=querystring)\n",
    "    if len(payload[\"data\"]) > 1:\n",
    "        inflow, outflow = inflow_outflow(payload)"
   ]
  },
  {
   "cell_type": "code",
   "execution_count": 129,
   "metadata": {},
   "outputs": [
    {
     "data": {
      "text/plain": [
       "array([      0.,       0., 5942421.,       0.,       0.,  190640.])"
      ]
     },
     "execution_count": 129,
     "metadata": {},
     "output_type": "execute_result"
    }
   ],
   "source": [
    "inflow"
   ]
  }
 ],
 "metadata": {
  "kernelspec": {
   "display_name": "Python 3.7.7 64-bit ('amberdata': venv)",
   "language": "python",
   "name": "python37764bitamberdatavenv6eb9815684054413851f0606c6f4ebfd"
  },
  "language_info": {
   "codemirror_mode": {
    "name": "ipython",
    "version": 3
   },
   "file_extension": ".py",
   "mimetype": "text/x-python",
   "name": "python",
   "nbconvert_exporter": "python",
   "pygments_lexer": "ipython3",
   "version": "3.7.7"
  }
 },
 "nbformat": 4,
 "nbformat_minor": 4
}
