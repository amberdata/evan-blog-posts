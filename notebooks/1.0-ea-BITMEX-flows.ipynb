{
 "cells": [
  {
   "cell_type": "markdown",
   "metadata": {},
   "source": [
    "# BitMEX Wallets in/outflow\n",
    "Date: 5/20/20  \n",
    "Author: Evan Azevedo  \n",
    "Organization: Amberdata  \n",
    "\n",
    "## Description\n",
    "Exploring the question: observing the in/outflows from BitMEX wallets, is there some impact on price? \n",
    "\n",
    "## Research Question\n",
    "Does the inflow of money into BitMEX wallets have any correlation with the price?\n",
    "\n",
    "### Key information\n",
    "* All wallet addresses start with BMEX (I think those are motor bikes?)\n",
    "* BitMEX have a single daily withdraw. So these wallets can take a lot of deposits, but limited withdraw - similar to a High Yield Savings acct."
   ]
  },
  {
   "cell_type": "code",
   "execution_count": 144,
   "metadata": {},
   "outputs": [],
   "source": [
    "# import the packages\n",
    "import os\n",
    "import requests\n",
    "import json\n",
    "import datetime\n",
    "\n",
    "import pandas as pd\n",
    "import numpy as np\n",
    "import matplotlib.pyplot as plt\n",
    "from dotenv import load_dotenv\n",
    "import tqdm\n",
    "\n",
    "N = 30 # Number of days to consider\n",
    "A = 100 # number of addresses"
   ]
  },
  {
   "cell_type": "code",
   "execution_count": 152,
   "metadata": {},
   "outputs": [],
   "source": [
    "# Important Utility functions\n",
    "\n",
    "def get_key():\n",
    "    \"Get the API key from an .env file\"\n",
    "    if \".env\" not in os.listdir(\"../\"):\n",
    "        print(\"Configuring API Key...\")\n",
    "        key = input(\"Amberdata API Key: \")\n",
    "        with open(\".env\", \"w\") as f:\n",
    "            f.write(f\"AMBERDATA_API_KEY={key}\\n\")\n",
    "\n",
    "    load_dotenv(verbose=True)\n",
    "\n",
    "    return {\n",
    "        \"AMBERDATA_API_KEY\": os.getenv(\"AMBERDATA_API_KEY\"),\n",
    "        \"AWS_ACCESS_KEY\": os.getenv(\"AWS_ACCESS_KEY\"),\n",
    "        \"AWS_SECRET_KEY\": os.getenv(\"AWS_SECRET_KEY\")\n",
    "    }\n",
    "\n",
    "def get_response(url, headers=None, queryString=None):\n",
    "    \"Get the REST response from the specified URL\"\n",
    "    if not headers:\n",
    "        headers = {'x-api-key': api_key}\n",
    "    if queryString:\n",
    "        response = requests.request(\"GET\", url, headers=headers, params=queryString)\n",
    "    else:\n",
    "        response = requests.request(\"GET\", url, headers=headers)\n",
    "    response = json.loads(response.text)\n",
    "    if response[\"title\"] == \"OK\":\n",
    "        return response[\"payload\"]\n",
    "    else:\n",
    "        print(\"Unsuccessful request.\")\n",
    "        \n",
    "def inflow_outflow(data: dict):\n",
    "    \"Returns the inflow and outflow of the payload\"\n",
    "    # get the column names\n",
    "    columns = data[\"metadata\"][\"columns\"]\n",
    "    # load the data, dropping timestampNano\n",
    "    ad_hist = pd.DataFrame(data[\"data\"], columns=columns).drop(\"timestampNanoseconds\", axis=1)\n",
    "    # change dtype of appropriate columns to Int\n",
    "    ad_hist[[\"blockNumber\", \"timestamp\", \"value\"]] = ad_hist[[\"blockNumber\", \"timestamp\", \"value\"]].apply(pd.to_numeric)\n",
    "    # sort by blockNum desc\n",
    "    ad_hist = ad_hist.sort_values(\"timestamp\").reset_index(drop=True)\n",
    "    # calculate inflow and outflow\n",
    "    ad_hist[\"diff\"] = ad_hist[\"value\"].diff()\n",
    "    ad_hist[\"inflow\"] = np.where(ad_hist[\"diff\"] > 0, ad_hist[\"diff\"], 0)\n",
    "    ad_hist[\"outflow\"] = np.where(ad_hist[\"diff\"] < 0, abs(ad_hist[\"diff\"]), 0)\n",
    "    # return the result\n",
    "    return ad_hist\n",
    "\n",
    "def reindex(data, index):\n",
    "    d = np.digitize(data.timestamp.values, index)\n",
    "    g = data[[\"inflow\", \"outflow\"]].groupby(d).sum()\n",
    "    g = g.reindex(range(N), fill_value=0)\n",
    "    g.index = index\n",
    "    return g\n",
    "\n",
    "# get our API Key\n",
    "api_key = get_key()[\"AMBERDATA_API_KEY\"]"
   ]
  },
  {
   "cell_type": "code",
   "execution_count": 136,
   "metadata": {},
   "outputs": [],
   "source": [
    "# Read the data\n",
    "df = pd.read_excel(\"/Users/evanazevedo/Downloads/Cluster_addresses_of_Bitmex.xlsx\", header=12, skipfooter=3)"
   ]
  },
  {
   "cell_type": "markdown",
   "metadata": {},
   "source": [
    "## Setting Parameters\n",
    "Initialize important parameters for our analysis, such as:  \n",
    "* Start and end of analysis\n",
    "* Which blockchain we are doing the anaysis\n",
    "* The granularity (daily)"
   ]
  },
  {
   "cell_type": "code",
   "execution_count": 137,
   "metadata": {},
   "outputs": [],
   "source": [
    "endTime = datetime.datetime.now()\n",
    "startTime = endTime - datetime.timedelta(N)\n",
    "\n",
    "endTime = str(int(endTime.timestamp()))\n",
    "startTime = str(int(startTime.timestamp()))\n",
    "\n",
    "querystring = {\"startDate\": startTime,\n",
    "               \"endDate\": endTime}\n",
    "\n",
    "headers = {\n",
    "    'x-amberdata-blockchain-id': \"bitcoin-mainnet\",\n",
    "    'x-api-key': api_key\n",
    "}\n",
    "\n",
    "index = [10**3*(int(startTime) + i*24*60**2) for i in range(N)]\n",
    "columns = [\"inflow\", \"outflow\"]\n",
    "gross_daily = pd.DataFrame(index=index, columns=columns).fillna(0)"
   ]
  },
  {
   "cell_type": "markdown",
   "metadata": {},
   "source": [
    "## Calculate Inflow Outflow"
   ]
  },
  {
   "cell_type": "code",
   "execution_count": 145,
   "metadata": {
    "scrolled": true
   },
   "outputs": [
    {
     "name": "stderr",
     "output_type": "stream",
     "text": [
      "100%|██████████| 100/100 [00:38<00:00,  2.59it/s]\n"
     ]
    }
   ],
   "source": [
    "if A:\n",
    "    addresses = df.iloc[:A].Address.values\n",
    "else:\n",
    "    addresses = df.Address.values\n",
    "\n",
    "for address in tqdm.tqdm(addresses):\n",
    "    url = \"https://web3api.io/api/v2/addresses/\" + address + \"/account-balances/historical\"\n",
    "    payload = get_response(url=url, headers=headers, queryString=querystring)\n",
    "    if len(payload[\"data\"]) > 1:\n",
    "        data = inflow_outflow(payload)\n",
    "        g = reindex(data, index)\n",
    "        gross_daily += g\n",
    "        \n",
    "gross_daily[\"net\"] = gross_daily[\"inflow\"] - gross_daily[\"outflow\"]"
   ]
  },
  {
   "cell_type": "markdown",
   "metadata": {},
   "source": [
    "## Get the Bitcoin OHLCV"
   ]
  },
  {
   "cell_type": "code",
   "execution_count": 146,
   "metadata": {},
   "outputs": [],
   "source": [
    "pair = \"xbtusd_bitmex\"\n",
    "\n",
    "url = \"https://web3api.io/api/v2/market/ohlcv/\"+pair+\"/historical\"\n",
    "\n",
    "querystring = {\"exchange\":\"bitmex\",\"startDate\":startTime,\"endDate\":endTime,\"timeInterval\":\"days\"}\n",
    "\n",
    "headers = {'x-api-key': api_key}\n",
    "\n",
    "payload = get_response(url, headers=headers, queryString=querystring)\n",
    "\n",
    "ohlcv = pd.DataFrame(payload[\"data\"][\"bitmex\"], columns=payload[\"metadata\"][\"columns\"]).set_index(\"timestamp\")"
   ]
  },
  {
   "cell_type": "markdown",
   "metadata": {},
   "source": [
    "## Plot the Results"
   ]
  },
  {
   "cell_type": "code",
   "execution_count": 150,
   "metadata": {},
   "outputs": [
    {
     "data": {
      "image/png": "[encoded data removed]",
      "text/plain": [
       "<Figure size 432x288 with 2 Axes>"
      ]
     },
     "metadata": {
      "needs_background": "light"
     },
     "output_type": "display_data"
    }
   ],
   "source": [
    "fig, ax1 = plt.subplots()\n",
    "\n",
    "ax1.set_title(f\"Inflow Outflow of {A} Addresses\")\n",
    "ax1.set_xlabel('time (s)')\n",
    "ax1.set_ylabel('Volume')\n",
    "ax1.plot(gross_daily)\n",
    "ax1.tick_params(axis='y')\n",
    "ax1.legend([\"inflow\", \"outflow\", \"net\"], loc=4)\n",
    "\n",
    "ax2 = ax1.twinx()  # instantiate a second axes that shares the same x-axis\n",
    "\n",
    "color = 'tab:red'\n",
    "ax2.set_ylabel(\"price\", color=color)  # we already handled the x-label with ax1\n",
    "ax2.plot(ohlcv.close, color=color)\n",
    "ax2.tick_params(axis='y', labelcolor=color)\n",
    "\n",
    "fig.tight_layout()  # otherwise the right y-label is slightly clipped\n",
    "plt.show()"
   ]
  }
 ],
 "metadata": {
  "kernelspec": {
   "display_name": "Python 3.7.7 64-bit ('amberdata': venv)",
   "language": "python",
   "name": "python37764bitamberdatavenv6eb9815684054413851f0606c6f4ebfd"
  },
  "language_info": {
   "codemirror_mode": {
    "name": "ipython",
    "version": 3
   },
   "file_extension": ".py",
   "mimetype": "text/x-python",
   "name": "python",
   "nbconvert_exporter": "python",
   "pygments_lexer": "ipython3",
   "version": "3.7.7"
  }
 },
 "nbformat": 4,
 "nbformat_minor": 4
}
