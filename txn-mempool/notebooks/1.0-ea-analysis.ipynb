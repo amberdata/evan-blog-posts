{
 "cells": [
  {
   "cell_type": "markdown",
   "metadata": {},
   "source": [
    "# Analysis notebook\n",
    "Author: Evan Azevedo  \n",
    "Company: Amberdata  \n",
    "Blog Post: Large Txn's in the Mempool"
   ]
  },
  {
   "cell_type": "code",
   "execution_count": 2,
   "metadata": {},
   "outputs": [],
   "source": [
    "# loading the packages\n",
    "import os\n",
    "import json\n",
    "import requests\n",
    "from datetime import datetime, timedelta, timezone\n",
    "import pytz\n",
    "import matplotlib.pyplot as plt\n",
    "import pandas as pd\n",
    "import numpy as np\n",
    "from dotenv import load_dotenv"
   ]
  },
  {
   "cell_type": "code",
   "execution_count": 17,
   "metadata": {},
   "outputs": [],
   "source": [
    "# helper functions\n",
    "def get_key():\n",
    "    \"Get the API key from an .env file\"\n",
    "    if \".env\" not in os.listdir(\"../\"):\n",
    "        print(\"Configuring API Key...\")\n",
    "        key = input(\"Amberdata API Key: \")\n",
    "        with open(\"../.env\", \"w\") as f:\n",
    "            f.write(f\"AMBERDATA_API_KEY={key}\\n\")\n",
    "    load_dotenv(verbose=True)\n",
    "    return {\n",
    "        \"AMBERDATA_API_KEY\": os.getenv(\"AMBERDATA_API_KEY\")\n",
    "    }\n",
    "\n",
    "def get_response(url, headers=None, queryString=None):\n",
    "    \"Get the REST response from the specified URL\"\n",
    "    if not headers:\n",
    "        headers = {'x-api-key': api_key[\"AMBERDATA_API_KEY\"]}\n",
    "    if queryString:\n",
    "        response = requests.request(\"GET\", url, headers=headers, params=queryString)\n",
    "    else:\n",
    "        response = requests.request(\"GET\", url, headers=headers)\n",
    "    response = json.loads(response.text)\n",
    "    try:\n",
    "        if response[\"title\"] == \"OK\":\n",
    "            return response[\"payload\"]\n",
    "    except Exception as e:\n",
    "        print(e)\n",
    "        return None\n",
    "\n",
    "# let's load our api key\n",
    "api_key = get_key()"
   ]
  },
  {
   "cell_type": "markdown",
   "metadata": {},
   "source": [
    "## Reading the data\n",
    "Now we get to read in the data from our Raspberry Pi. For now I am just plotting the raw values to see what kind of volume of transactions are going on."
   ]
  },
  {
   "cell_type": "code",
   "execution_count": 67,
   "metadata": {},
   "outputs": [
    {
     "data": {
      "image/png": "[encoded data removed]",
      "text/plain": [
       "<Figure size 432x288 with 1 Axes>"
      ]
     },
     "metadata": {
      "needs_background": "light"
     },
     "output_type": "display_data"
    }
   ],
   "source": [
    "# read in the data from different sources\n",
    "results = pd.read_csv(\"../data/results_08-14_08-15.csv\", sep='; ', engine='python')\n",
    "\n",
    "# get the value of BTC per pending txn\n",
    "results[\"btc\"] = results.value // 10**8\n",
    "# convert to timestamp\n",
    "results['timestamp'] = pd.to_datetime(results.timestamp, utc=True)\n",
    "\n",
    "# plot just to see if there are lots of whale activity\n",
    "results.btc.plot()\n",
    "plt.title(\"Magnitude of pending transactions\")\n",
    "plt.ylabel(\"BTC\")\n",
    "plt.savefig(\"../plots/mag_pending.png\")\n",
    "plt.show()"
   ]
  },
  {
   "cell_type": "markdown",
   "metadata": {},
   "source": [
    "## Getting OHLCV data"
   ]
  },
  {
   "cell_type": "code",
   "execution_count": 10,
   "metadata": {},
   "outputs": [
    {
     "name": "stdout",
     "output_type": "stream",
     "text": [
      "Iteration: 0\n",
      "Iteration: 1\n",
      "Iteration: 2\n",
      "Iteration: 3\n",
      "Iteration: 4\n"
     ]
    }
   ],
   "source": [
    "dfs = []\n",
    "n_days = 5\n",
    "\n",
    "for i in range(n_days):\n",
    "    print(f\"Iteration: {i}\")\n",
    "    # get the start and end dates in timestamps\n",
    "    startDate = results.timestamp.min() + timedelta(i-1)\n",
    "    endDate = startDate + timedelta(1)\n",
    "    \n",
    "    # convert to UNIX format\n",
    "    startDate = str(round(startDate.timestamp()*10**3))\n",
    "    endDate = str(round(endDate.timestamp()*10**3))\n",
    "\n",
    "    # the url for our endpoint\n",
    "    url = \"https://web3api.io/api/v2/market/ohlcv/btc_usd/historical\"\n",
    "    \n",
    "    # our query\n",
    "    querystring = {\n",
    "        \"timeInterval\": \"minutes\", \n",
    "        \"timeFormat\": \"iso\",\n",
    "        'startDate': startDate, \n",
    "        'endDate': endDate, \n",
    "        \"exchange\": \"bitfinex\"\n",
    "    }\n",
    "    \n",
    "    # the API key\n",
    "    headers = {'x-api-key': api_key[\"AMBERDATA_API_KEY\"]}\n",
    "\n",
    "    # the response for our query\n",
    "    payload = get_response(url, headers, querystring)\n",
    "    \n",
    "    # we save the OHLCV data\n",
    "    bfx = payload['data']['bitfinex']\n",
    "\n",
    "    # get the columns and make a dataframe\n",
    "    columns = payload['metadata']['columns']\n",
    "    bfx_df = pd.DataFrame(bfx, columns=columns)\n",
    "    # append the dataframe to a list\n",
    "    dfs.append(bfx_df)\n",
    "\n",
    "# combine the several days of OHLCV data\n",
    "ohlcv = pd.concat(dfs)"
   ]
  },
  {
   "cell_type": "code",
   "execution_count": 13,
   "metadata": {},
   "outputs": [],
   "source": [
    "# save current data to csv\n",
    "ohlcv.to_csv(\"../data/ohlcv.csv\", index=False)\n",
    "results.to_csv(\"../data/results_all_08-14_08-15.csv\", index=False)"
   ]
  },
  {
   "cell_type": "markdown",
   "metadata": {},
   "source": [
    "## Working with the OHLCV data"
   ]
  },
  {
   "cell_type": "code",
   "execution_count": 7,
   "metadata": {},
   "outputs": [],
   "source": [
    "# read the data from our saved csvs\n",
    "ohlcv = pd.read_csv(\"../data/ohlcv.csv\")\n",
    "results = pd.read_csv(\"../data/results_all_08-14_08-15.csv\")\n",
    "\n",
    "# change the UNIX timestamp to human readable format and set it as index\n",
    "results[\"timestamp\"] = pd.to_datetime(results.timestamp, utc=True)\n",
    "\n",
    "# unify the timestamp format and set as index\n",
    "ohlcv[\"timestamp\"] = pd.to_datetime(ohlcv.timestamp)\n",
    "\n",
    "# drop OHL from the dataframe\n",
    "ohlcv.drop(['open', 'high', 'low'], axis=1, inplace=True)\n",
    "\n",
    "# select only data from our date range\n",
    "ohlcv = ohlcv[(ohlcv.timestamp <= results.timestamp.max()) & (ohlcv.timestamp >= results.timestamp.min())]\n",
    "\n",
    "# set timestamp as index\n",
    "ohlcv.set_index(\"timestamp\", inplace=True)"
   ]
  },
  {
   "cell_type": "markdown",
   "metadata": {},
   "source": [
    "### Adding USD to Pending txns\n",
    "We would like to add the value of Bitcoin to our results DataFrame, so we can see the value of the transactions in USD."
   ]
  },
  {
   "cell_type": "code",
   "execution_count": 10,
   "metadata": {},
   "outputs": [
    {
     "data": {
      "text/html": [
       "<div>\n",
       "<style scoped>\n",
       "    .dataframe tbody tr th:only-of-type {\n",
       "        vertical-align: middle;\n",
       "    }\n",
       "\n",
       "    .dataframe tbody tr th {\n",
       "        vertical-align: top;\n",
       "    }\n",
       "\n",
       "    .dataframe thead th {\n",
       "        text-align: right;\n",
       "    }\n",
       "</style>\n",
       "<table border=\"1\" class=\"dataframe\">\n",
       "  <thead>\n",
       "    <tr style=\"text-align: right;\">\n",
       "      <th></th>\n",
       "      <th>timestamp</th>\n",
       "      <th>from</th>\n",
       "      <th>to</th>\n",
       "      <th>hash</th>\n",
       "      <th>value</th>\n",
       "      <th>btc</th>\n",
       "      <th>ts_minute</th>\n",
       "      <th>close</th>\n",
       "      <th>volume</th>\n",
       "      <th>usd</th>\n",
       "    </tr>\n",
       "  </thead>\n",
       "  <tbody>\n",
       "    <tr>\n",
       "      <th>3722</th>\n",
       "      <td>2020-08-15 04:16:31.115861+00:00</td>\n",
       "      <td>['3LCGsSmfr24demGvriN4e3ft8wEcDuHFqh']</td>\n",
       "      <td>['bc1qvx4ara9g7jfcucz7s3k43wk6hma363l0e54vdd',...</td>\n",
       "      <td>9dfea698d9babb7c4826ce947f53b9395bd31848ea7081...</td>\n",
       "      <td>660999304207</td>\n",
       "      <td>6609</td>\n",
       "      <td>2020-08-15 04:17:00+00:00</td>\n",
       "      <td>11863.000000</td>\n",
       "      <td>2.656826</td>\n",
       "      <td>7.841435e+07</td>\n",
       "    </tr>\n",
       "    <tr>\n",
       "      <th>4211</th>\n",
       "      <td>2020-08-15 06:18:02.676154+00:00</td>\n",
       "      <td>['19iqYbeATe4RxghQZJnYVFU4mjUUu76EA6', '3A3EVW...</td>\n",
       "      <td>['19iqYbeATe4RxghQZJnYVFU4mjUUu76EA6']</td>\n",
       "      <td>95c6dd88b9507c5df95755e05153cd5960869562a0dada...</td>\n",
       "      <td>429319364572</td>\n",
       "      <td>4293</td>\n",
       "      <td>2020-08-15 06:18:00+00:00</td>\n",
       "      <td>11937.000000</td>\n",
       "      <td>1.928302</td>\n",
       "      <td>5.124785e+07</td>\n",
       "    </tr>\n",
       "    <tr>\n",
       "      <th>4442</th>\n",
       "      <td>2020-08-15 06:56:03.379047+00:00</td>\n",
       "      <td>['19iqYbeATe4RxghQZJnYVFU4mjUUu76EA6', '3NjGhj...</td>\n",
       "      <td>['19iqYbeATe4RxghQZJnYVFU4mjUUu76EA6']</td>\n",
       "      <td>c6330e0299611ab6d6f0d685ba826f2dc20b5bf5dcd922...</td>\n",
       "      <td>430319224572</td>\n",
       "      <td>4303</td>\n",
       "      <td>2020-08-15 06:56:00+00:00</td>\n",
       "      <td>11905.170752</td>\n",
       "      <td>1.396340</td>\n",
       "      <td>5.123024e+07</td>\n",
       "    </tr>\n",
       "    <tr>\n",
       "      <th>4189</th>\n",
       "      <td>2020-08-15 06:14:08.981975+00:00</td>\n",
       "      <td>['19iqYbeATe4RxghQZJnYVFU4mjUUu76EA6', '3A3EVW...</td>\n",
       "      <td>['19iqYbeATe4RxghQZJnYVFU4mjUUu76EA6']</td>\n",
       "      <td>95c6dd88b9507c5df95755e05153cd5960869562a0dada...</td>\n",
       "      <td>429319364572</td>\n",
       "      <td>4293</td>\n",
       "      <td>2020-08-15 06:14:00+00:00</td>\n",
       "      <td>11912.000000</td>\n",
       "      <td>1.530417</td>\n",
       "      <td>5.114052e+07</td>\n",
       "    </tr>\n",
       "    <tr>\n",
       "      <th>3852</th>\n",
       "      <td>2020-08-15 04:57:02.223934+00:00</td>\n",
       "      <td>['19iqYbeATe4RxghQZJnYVFU4mjUUu76EA6', '34amkx...</td>\n",
       "      <td>['19iqYbeATe4RxghQZJnYVFU4mjUUu76EA6']</td>\n",
       "      <td>6eb4851a0dfadac9f7cd6b20414ecc58bcb357b6960ccb...</td>\n",
       "      <td>429227544572</td>\n",
       "      <td>4292</td>\n",
       "      <td>2020-08-15 04:57:00+00:00</td>\n",
       "      <td>11877.933218</td>\n",
       "      <td>0.010000</td>\n",
       "      <td>5.098336e+07</td>\n",
       "    </tr>\n",
       "    <tr>\n",
       "      <th>3850</th>\n",
       "      <td>2020-08-15 04:54:33.683976+00:00</td>\n",
       "      <td>['19iqYbeATe4RxghQZJnYVFU4mjUUu76EA6', '34amkx...</td>\n",
       "      <td>['19iqYbeATe4RxghQZJnYVFU4mjUUu76EA6']</td>\n",
       "      <td>6eb4851a0dfadac9f7cd6b20414ecc58bcb357b6960ccb...</td>\n",
       "      <td>429227544572</td>\n",
       "      <td>4292</td>\n",
       "      <td>2020-08-15 04:55:00+00:00</td>\n",
       "      <td>11874.000000</td>\n",
       "      <td>0.524571</td>\n",
       "      <td>5.096648e+07</td>\n",
       "    </tr>\n",
       "    <tr>\n",
       "      <th>3398</th>\n",
       "      <td>2020-08-15 03:04:29.922460+00:00</td>\n",
       "      <td>['19iqYbeATe4RxghQZJnYVFU4mjUUu76EA6']</td>\n",
       "      <td>['19ZamLaqCCXa2rvVeKcJPYWXBwXVMxy4zi', '19iqYb...</td>\n",
       "      <td>dfd04d52635e00c0f28fd1926c26f120d5acca6cf47610...</td>\n",
       "      <td>426274270244</td>\n",
       "      <td>4262</td>\n",
       "      <td>2020-08-15 03:04:00+00:00</td>\n",
       "      <td>11917.000000</td>\n",
       "      <td>5.339089</td>\n",
       "      <td>5.079910e+07</td>\n",
       "    </tr>\n",
       "    <tr>\n",
       "      <th>3314</th>\n",
       "      <td>2020-08-15 02:47:06.831047+00:00</td>\n",
       "      <td>['19iqYbeATe4RxghQZJnYVFU4mjUUu76EA6', '3NdsXD...</td>\n",
       "      <td>['19iqYbeATe4RxghQZJnYVFU4mjUUu76EA6']</td>\n",
       "      <td>339bf3cd371075fb60c7b0785356c55874513cd56f7279...</td>\n",
       "      <td>425675725784</td>\n",
       "      <td>4256</td>\n",
       "      <td>2020-08-15 02:47:00+00:00</td>\n",
       "      <td>11916.000000</td>\n",
       "      <td>1.446488</td>\n",
       "      <td>5.072352e+07</td>\n",
       "    </tr>\n",
       "    <tr>\n",
       "      <th>3716</th>\n",
       "      <td>2020-08-15 04:15:27.476662+00:00</td>\n",
       "      <td>['19iqYbeATe4RxghQZJnYVFU4mjUUu76EA6', '3LcZjE...</td>\n",
       "      <td>['19iqYbeATe4RxghQZJnYVFU4mjUUu76EA6']</td>\n",
       "      <td>6c44966bd217bb822affb46d9f6dcf4aea74736cb943ef...</td>\n",
       "      <td>427626983772</td>\n",
       "      <td>4276</td>\n",
       "      <td>2020-08-15 04:15:00+00:00</td>\n",
       "      <td>11861.000000</td>\n",
       "      <td>10.664353</td>\n",
       "      <td>5.072084e+07</td>\n",
       "    </tr>\n",
       "    <tr>\n",
       "      <th>3310</th>\n",
       "      <td>2020-08-15 02:45:01.294262+00:00</td>\n",
       "      <td>['19iqYbeATe4RxghQZJnYVFU4mjUUu76EA6', '33svB3...</td>\n",
       "      <td>['19iqYbeATe4RxghQZJnYVFU4mjUUu76EA6']</td>\n",
       "      <td>d54442f4abcc602062dd93076348c6efea62e270137f16...</td>\n",
       "      <td>425665795784</td>\n",
       "      <td>4256</td>\n",
       "      <td>2020-08-15 02:45:00+00:00</td>\n",
       "      <td>11911.000000</td>\n",
       "      <td>0.490895</td>\n",
       "      <td>5.070105e+07</td>\n",
       "    </tr>\n",
       "  </tbody>\n",
       "</table>\n",
       "</div>"
      ],
      "text/plain": [
       "                            timestamp  \\\n",
       "3722 2020-08-15 04:16:31.115861+00:00   \n",
       "4211 2020-08-15 06:18:02.676154+00:00   \n",
       "4442 2020-08-15 06:56:03.379047+00:00   \n",
       "4189 2020-08-15 06:14:08.981975+00:00   \n",
       "3852 2020-08-15 04:57:02.223934+00:00   \n",
       "3850 2020-08-15 04:54:33.683976+00:00   \n",
       "3398 2020-08-15 03:04:29.922460+00:00   \n",
       "3314 2020-08-15 02:47:06.831047+00:00   \n",
       "3716 2020-08-15 04:15:27.476662+00:00   \n",
       "3310 2020-08-15 02:45:01.294262+00:00   \n",
       "\n",
       "                                                   from  \\\n",
       "3722             ['3LCGsSmfr24demGvriN4e3ft8wEcDuHFqh']   \n",
       "4211  ['19iqYbeATe4RxghQZJnYVFU4mjUUu76EA6', '3A3EVW...   \n",
       "4442  ['19iqYbeATe4RxghQZJnYVFU4mjUUu76EA6', '3NjGhj...   \n",
       "4189  ['19iqYbeATe4RxghQZJnYVFU4mjUUu76EA6', '3A3EVW...   \n",
       "3852  ['19iqYbeATe4RxghQZJnYVFU4mjUUu76EA6', '34amkx...   \n",
       "3850  ['19iqYbeATe4RxghQZJnYVFU4mjUUu76EA6', '34amkx...   \n",
       "3398             ['19iqYbeATe4RxghQZJnYVFU4mjUUu76EA6']   \n",
       "3314  ['19iqYbeATe4RxghQZJnYVFU4mjUUu76EA6', '3NdsXD...   \n",
       "3716  ['19iqYbeATe4RxghQZJnYVFU4mjUUu76EA6', '3LcZjE...   \n",
       "3310  ['19iqYbeATe4RxghQZJnYVFU4mjUUu76EA6', '33svB3...   \n",
       "\n",
       "                                                     to  \\\n",
       "3722  ['bc1qvx4ara9g7jfcucz7s3k43wk6hma363l0e54vdd',...   \n",
       "4211             ['19iqYbeATe4RxghQZJnYVFU4mjUUu76EA6']   \n",
       "4442             ['19iqYbeATe4RxghQZJnYVFU4mjUUu76EA6']   \n",
       "4189             ['19iqYbeATe4RxghQZJnYVFU4mjUUu76EA6']   \n",
       "3852             ['19iqYbeATe4RxghQZJnYVFU4mjUUu76EA6']   \n",
       "3850             ['19iqYbeATe4RxghQZJnYVFU4mjUUu76EA6']   \n",
       "3398  ['19ZamLaqCCXa2rvVeKcJPYWXBwXVMxy4zi', '19iqYb...   \n",
       "3314             ['19iqYbeATe4RxghQZJnYVFU4mjUUu76EA6']   \n",
       "3716             ['19iqYbeATe4RxghQZJnYVFU4mjUUu76EA6']   \n",
       "3310             ['19iqYbeATe4RxghQZJnYVFU4mjUUu76EA6']   \n",
       "\n",
       "                                                   hash         value   btc  \\\n",
       "3722  9dfea698d9babb7c4826ce947f53b9395bd31848ea7081...  660999304207  6609   \n",
       "4211  95c6dd88b9507c5df95755e05153cd5960869562a0dada...  429319364572  4293   \n",
       "4442  c6330e0299611ab6d6f0d685ba826f2dc20b5bf5dcd922...  430319224572  4303   \n",
       "4189  95c6dd88b9507c5df95755e05153cd5960869562a0dada...  429319364572  4293   \n",
       "3852  6eb4851a0dfadac9f7cd6b20414ecc58bcb357b6960ccb...  429227544572  4292   \n",
       "3850  6eb4851a0dfadac9f7cd6b20414ecc58bcb357b6960ccb...  429227544572  4292   \n",
       "3398  dfd04d52635e00c0f28fd1926c26f120d5acca6cf47610...  426274270244  4262   \n",
       "3314  339bf3cd371075fb60c7b0785356c55874513cd56f7279...  425675725784  4256   \n",
       "3716  6c44966bd217bb822affb46d9f6dcf4aea74736cb943ef...  427626983772  4276   \n",
       "3310  d54442f4abcc602062dd93076348c6efea62e270137f16...  425665795784  4256   \n",
       "\n",
       "                     ts_minute         close     volume           usd  \n",
       "3722 2020-08-15 04:17:00+00:00  11863.000000   2.656826  7.841435e+07  \n",
       "4211 2020-08-15 06:18:00+00:00  11937.000000   1.928302  5.124785e+07  \n",
       "4442 2020-08-15 06:56:00+00:00  11905.170752   1.396340  5.123024e+07  \n",
       "4189 2020-08-15 06:14:00+00:00  11912.000000   1.530417  5.114052e+07  \n",
       "3852 2020-08-15 04:57:00+00:00  11877.933218   0.010000  5.098336e+07  \n",
       "3850 2020-08-15 04:55:00+00:00  11874.000000   0.524571  5.096648e+07  \n",
       "3398 2020-08-15 03:04:00+00:00  11917.000000   5.339089  5.079910e+07  \n",
       "3314 2020-08-15 02:47:00+00:00  11916.000000   1.446488  5.072352e+07  \n",
       "3716 2020-08-15 04:15:00+00:00  11861.000000  10.664353  5.072084e+07  \n",
       "3310 2020-08-15 02:45:00+00:00  11911.000000   0.490895  5.070105e+07  "
      ]
     },
     "execution_count": 10,
     "metadata": {},
     "output_type": "execute_result"
    }
   ],
   "source": [
    "# add a column of timestamps rounded to the minute\n",
    "results[\"ts_minute\"] = results.timestamp.dt.round('1min')\n",
    "\n",
    "# rename the ohlcv column for joining\n",
    "ohlcv_min = ohlcv.reset_index().rename({\"timestamp\": \"ts_minute\"}, axis=1)\n",
    "\n",
    "# join the close column to the results dataframe\n",
    "df_merged = pd.merge(results, ohlcv_min, on = \"ts_minute\", how='left').dropna()\n",
    "\n",
    "# create the usd value column\n",
    "df_merged[\"usd\"] = df_merged.value/10**8 * df_merged.close\n",
    "\n",
    "\n",
    "# display the result, sorted by the largest transactions\n",
    "# sort the values by increasing dollar amounts\n",
    "data_sorted = df_merged.sort_values(\"usd\", ascending=False)\n",
    "# display the top n transactions\n",
    "n_txn = 10       # the number of the top transactions we want to focus on\n",
    "data_sorted.head(n_txn)"
   ]
  },
  {
   "cell_type": "markdown",
   "metadata": {},
   "source": [
    "So there was one transaction that was significantly $(> 1/3)$ larger than the rest, for 6609 BTC. It was also only from a single sender: `3LCGsSmfr24demGvriN4e3ft8wEcDuHFqh`."
   ]
  },
  {
   "cell_type": "markdown",
   "metadata": {},
   "source": [
    "## Plotting whale activity on price"
   ]
  },
  {
   "cell_type": "code",
   "execution_count": 19,
   "metadata": {
    "scrolled": true
   },
   "outputs": [
    {
     "data": {
      "image/png": "[encoded data removed]",
      "text/plain": [
       "<Figure size 432x288 with 1 Axes>"
      ]
     },
     "metadata": {
      "needs_background": "light"
     },
     "output_type": "display_data"
    }
   ],
   "source": [
    "# plotting the time series of bitcoin price\n",
    "#ohlcv.set_index(\"timestamp\", inplace=True)\n",
    "ohlcv.close.plot()\n",
    "\n",
    "# add a red line when a large pending transaction occured\n",
    "for i in range(n_txn-1):\n",
    "    plt.axvline(data_sorted.iloc[i, 0], color='r', alpha=0.5)\n",
    "\n",
    "plt.title(\"Larget whale activity\")\n",
    "plt.ylabel(\"btc_usd\")\n",
    "plt.tight_layout()\n",
    "plt.savefig(\"../plots/large_whale_activity.png\")\n",
    "plt.show()"
   ]
  },
  {
   "cell_type": "code",
   "execution_count": 20,
   "metadata": {
    "scrolled": true
   },
   "outputs": [
    {
     "data": {
      "image/png": "[encoded data removed]",
      "text/plain": [
       "<Figure size 432x288 with 1 Axes>"
      ]
     },
     "metadata": {
      "needs_background": "light"
     },
     "output_type": "display_data"
    }
   ],
   "source": [
    "# the start and end of large whale activity\n",
    "start, end = datetime(2020, 8, 15, 2, 0, 0, tzinfo=pytz.UTC), datetime(2020, 8, 15, 7, 0, 0, tzinfo=pytz.UTC)\n",
    "\n",
    "# plotting the large whale activity\n",
    "ohlcv[(ohlcv.index > start) & (ohlcv.index < end)].close.plot()\n",
    "\n",
    "# adding red lines for when whale transactions where posted\n",
    "for i in range(n_txn):\n",
    "    # grabbing the timestamp in minutes\n",
    "    ts = data_sorted.iloc[i, 0]\n",
    "    # plotting the vertical line\n",
    "    if ts > start and ts < end:\n",
    "        plt.axvline(ts, color='r', alpha=0.5)\n",
    "    \n",
    "# add an appropriate title\n",
    "plt.title(f\"Whale activity for {start.month}/{start.day} from {start.hour}:{start.minute}0 AM to {end.hour}:{end.minute}0 AM\")\\\n",
    "# label the y axis\n",
    "plt.ylabel(\"btc_usd\")\n",
    "plt.tight_layout()\n",
    "# save the figure\n",
    "plt.savefig(\"../plots/whale_zoom_in.png\")"
   ]
  },
  {
   "cell_type": "markdown",
   "metadata": {},
   "source": [
    "## Zooming in to the effect of large transactions"
   ]
  },
  {
   "cell_type": "code",
   "execution_count": 21,
   "metadata": {},
   "outputs": [],
   "source": [
    "# make a column in ohlcv data if there was a top transaction\n",
    "ohlcv[\"top_txn\"] = ohlcv.index.isin(data_sorted.head(n_txn).ts_minute)"
   ]
  },
  {
   "cell_type": "code",
   "execution_count": 22,
   "metadata": {},
   "outputs": [],
   "source": [
    "i = 0              # initializing i\n",
    "win_size = 7       # the window size after a large txn\n",
    "windows = []       # an array for saving our windows\n",
    "\n",
    "# iterate through the ohlcv data\n",
    "while i <= len(ohlcv):\n",
    "    # if the transaction is a large transaction\n",
    "    if ohlcv.iloc[i, -1] == True:\n",
    "        # save the txn and the minutes after\n",
    "        windows.append(ohlcv.iloc[i:i+win_size])\n",
    "        # increment the window to move past the current frame\n",
    "        i += win_size - 1\n",
    "    # increment the window normally\n",
    "    i += 1"
   ]
  },
  {
   "cell_type": "code",
   "execution_count": 24,
   "metadata": {
    "scrolled": false
   },
   "outputs": [
    {
     "data": {
      "image/png": "[encoded data removed]",
      "text/plain": [
       "<Figure size 720x360 with 6 Axes>"
      ]
     },
     "metadata": {
      "needs_background": "light"
     },
     "output_type": "display_data"
    }
   ],
   "source": [
    "# let's plot each of the windows\n",
    "# making the subplots\n",
    "fig, axs = plt.subplots(2, 3, figsize=(10, 5))\n",
    "\n",
    "# \n",
    "for i, win in enumerate(windows):\n",
    "    if i < 3:\n",
    "        axs[0][i].plot(win.close)\n",
    "    else:\n",
    "        axs[1][i-3].plot(win.close)\n",
    "        \n",
    "plt.tight_layout()\n",
    "plt.savefig(\"../plots/large_txn_periods.png\")\n",
    "plt.show()"
   ]
  },
  {
   "cell_type": "markdown",
   "metadata": {},
   "source": [
    "How many had a drop in price? Only transactions 1 and 3 had a perceptible drop in price after the first point. "
   ]
  },
  {
   "cell_type": "markdown",
   "metadata": {},
   "source": [
    "## Which Txn's went through?\n",
    "Let's see first if our big $(>\\$78 m)$ transaction went through. We can check this easily enough since we recorded the transaction hash, the timestamp, and the address as well as the transaction size. We will be using the Amberdata [transaction](https://docs.amberdata.io/reference#get-address-transactions) endpoint."
   ]
  },
  {
   "cell_type": "code",
   "execution_count": 74,
   "metadata": {},
   "outputs": [],
   "source": [
    "def parse_addresses(i: int = 0, n: int = 0) -> str:\n",
    "    \"\"\"Returns the address from record i in position n\"\"\"\n",
    "    # parse the list of addresses\n",
    "    address_list = data_sorted.iloc[i, 1].split(\"['\")[-1].split(\"']\")[0]\n",
    "    return address_list.split(\"', '\")[n]"
   ]
  },
  {
   "cell_type": "code",
   "execution_count": 91,
   "metadata": {
    "scrolled": true
   },
   "outputs": [
    {
     "name": "stdout",
     "output_type": "stream",
     "text": [
      "None\n"
     ]
    }
   ],
   "source": [
    "# the top transaction number we consider\n",
    "i = 0\n",
    "# the sender's address\n",
    "sender = parse_addresses(i)\n",
    "# the transaction hash\n",
    "txn_hash = data_sorted.iloc[i, 3]\n",
    "\n",
    "url = f\"https://web3api.io/api/v2/addresses/{sender}/token-transfers\"\n",
    "\n",
    "# format the date string for start and endtimes\n",
    "start = str(datetime(2020, 8, 15, 2, 10, 0).strftime(\"%Y-%m-%dT%H:%M:%S.000Z\"))\n",
    "end = str(datetime.today().strftime(\"%Y-%m-%dT%H:%M:%S.000Z\"))\n",
    "\n",
    "querystring = {\"startDate\": start,\n",
    "               \"endDate\": end,\n",
    "               \"transactionHash\": txn_hash,\n",
    "               \"page\":\"0\",\n",
    "               \"size\":\"2\"}\n",
    "\n",
    "headers = {\n",
    "    'x-amberdata-blockchain-id': \"bitcoin-mainnet\",\n",
    "    'x-api-key': api_key[\"AMBERDATA_API_KEY\"]\n",
    "}\n",
    "\n",
    "response = get_response(url, headers, querystring)\n",
    "\n",
    "print(response)"
   ]
  },
  {
   "cell_type": "markdown",
   "metadata": {},
   "source": [
    "As we can see, the large transaction did not end up going through. It's possible that this was just a way to introduce false volume at the bottom of the order book. Now, let's iterate through and see if any of the top $N$ transactions went through."
   ]
  },
  {
   "cell_type": "code",
   "execution_count": 93,
   "metadata": {},
   "outputs": [
    {
     "name": "stdout",
     "output_type": "stream",
     "text": [
      "3LCGsSmfr24demGvriN4e3ft8wEcDuHFqh 9dfea698d9babb7c4826ce947f53b9395bd31848ea70810e3ea12d403a95d079\n",
      "None\n",
      "19iqYbeATe4RxghQZJnYVFU4mjUUu76EA6 95c6dd88b9507c5df95755e05153cd5960869562a0dada7343ee8336ebf68248\n",
      "None\n",
      "19iqYbeATe4RxghQZJnYVFU4mjUUu76EA6 c6330e0299611ab6d6f0d685ba826f2dc20b5bf5dcd92218ccbadef3ca31ecf8\n",
      "None\n",
      "19iqYbeATe4RxghQZJnYVFU4mjUUu76EA6 95c6dd88b9507c5df95755e05153cd5960869562a0dada7343ee8336ebf68248\n",
      "None\n",
      "19iqYbeATe4RxghQZJnYVFU4mjUUu76EA6 6eb4851a0dfadac9f7cd6b20414ecc58bcb357b6960ccb210d33ce86b62602be\n",
      "None\n",
      "19iqYbeATe4RxghQZJnYVFU4mjUUu76EA6 6eb4851a0dfadac9f7cd6b20414ecc58bcb357b6960ccb210d33ce86b62602be\n",
      "None\n",
      "19iqYbeATe4RxghQZJnYVFU4mjUUu76EA6 dfd04d52635e00c0f28fd1926c26f120d5acca6cf47610ef8d3d3e7b043eb0df\n",
      "None\n",
      "19iqYbeATe4RxghQZJnYVFU4mjUUu76EA6 339bf3cd371075fb60c7b0785356c55874513cd56f7279d8d9efa1627b71e761\n",
      "None\n",
      "19iqYbeATe4RxghQZJnYVFU4mjUUu76EA6 6c44966bd217bb822affb46d9f6dcf4aea74736cb943ef741f817fff1ecdce1e\n",
      "None\n",
      "19iqYbeATe4RxghQZJnYVFU4mjUUu76EA6 d54442f4abcc602062dd93076348c6efea62e270137f16e2b8f3978c5661e9b7\n",
      "None\n"
     ]
    }
   ],
   "source": [
    "for i in range(n_txn):\n",
    "\n",
    "    sender = parse_addresses(i)\n",
    "\n",
    "    txn_hash = data_sorted.iloc[i, 3]\n",
    "    print(sender, txn_hash)\n",
    "\n",
    "    url = f\"https://web3api.io/api/v2/addresses/{sender}/token-transfers\"\n",
    "\n",
    "    start = str(datetime(2020, 8, 15, 4, 10, 0).strftime(\"%Y-%m-%dT%H:%M:%S.000Z\"))\n",
    "    end = str(datetime.today().strftime(\"%Y-%m-%dT%H:%M:%S.000Z\"))\n",
    "\n",
    "    querystring = {\"startDate\": start,\n",
    "                   \"endDate\": end,\n",
    "                   \"transactionHash\": txn_hash,\n",
    "                   \"page\":\"0\",\n",
    "                   \"size\":\"2\"}\n",
    "\n",
    "    headers = {\n",
    "        'x-amberdata-blockchain-id': \"bitcoin-mainnet\",\n",
    "        'x-api-key': api_key[\"AMBERDATA_API_KEY\"]\n",
    "    }\n",
    "\n",
    "    response = get_response(url, headers, querystring)\n",
    "\n",
    "    print(response)"
   ]
  },
  {
   "cell_type": "code",
   "execution_count": null,
   "metadata": {},
   "outputs": [],
   "source": []
  }
 ],
 "metadata": {
  "kernelspec": {
   "display_name": "Python 3.7.7 64-bit ('amberdata': venv)",
   "language": "python",
   "name": "python37764bitamberdatavenv6eb9815684054413851f0606c6f4ebfd"
  },
  "language_info": {
   "codemirror_mode": {
    "name": "ipython",
    "version": 3
   },
   "file_extension": ".py",
   "mimetype": "text/x-python",
   "name": "python",
   "nbconvert_exporter": "python",
   "pygments_lexer": "ipython3",
   "version": "3.7.7"
  }
 },
 "nbformat": 4,
 "nbformat_minor": 4
}
