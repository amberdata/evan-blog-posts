{
 "cells": [
  {
   "cell_type": "code",
   "execution_count": 1,
   "metadata": {},
   "outputs": [],
   "source": [
    "import os\n",
    "import json\n",
    "import requests\n",
    "from datetime import datetime, timedelta, timezone\n",
    "import matplotlib.pyplot as plt\n",
    "import pandas as pd\n",
    "import numpy as np\n",
    "from dotenv import load_dotenv"
   ]
  },
  {
   "cell_type": "code",
   "execution_count": 2,
   "metadata": {},
   "outputs": [],
   "source": [
    "# helper functions\n",
    "def get_key():\n",
    "    \"Get the API key from an .env file\"\n",
    "    if \".env\" not in os.listdir(\"../\"):\n",
    "        print(\"Configuring API Key...\")\n",
    "        key = input(\"Amberdata API Key: \")\n",
    "        with open(\"../.env\", \"w\") as f:\n",
    "            f.write(f\"AMBERDATA_API_KEY={key}\\n\")\n",
    "    load_dotenv(verbose=True)\n",
    "    return {\n",
    "        \"AMBERDATA_API_KEY\": os.getenv(\"AMBERDATA_API_KEY\")\n",
    "    }\n",
    "\n",
    "def get_response(url, headers=None, queryString=None):\n",
    "    \"Get the REST response from the specified URL\"\n",
    "    if not headers:\n",
    "        headers = {'x-api-key': api_key[\"AMBERDATA_API_KEY\"]}\n",
    "    if queryString:\n",
    "        response = requests.request(\"GET\", url, headers=headers, params=queryString)\n",
    "    else:\n",
    "        response = requests.request(\"GET\", url, headers=headers)\n",
    "    response = json.loads(response.text)\n",
    "    try:\n",
    "        if response[\"title\"] == \"OK\":\n",
    "            return response[\"payload\"]\n",
    "    except Exception as e:\n",
    "        print(e)\n",
    "        return None\n",
    "    \n",
    "api_key = get_key()"
   ]
  },
  {
   "cell_type": "code",
   "execution_count": 58,
   "metadata": {},
   "outputs": [
    {
     "data": {
      "image/png": "[encoded data removed]",
      "text/plain": [
       "<Figure size 432x288 with 1 Axes>"
      ]
     },
     "metadata": {
      "needs_background": "light"
     },
     "output_type": "display_data"
    }
   ],
   "source": [
    "# read in the data from different sources\n",
    "res1 = pd.read_csv(\"../data/results_06-06.csv\", sep='; ', engine='python')\n",
    "res2 = pd.read_csv(\"../data/results_07-08.csv\", sep='; ', engine='python')\n",
    "res3 = pd.read_csv(\"../data/results_10-12.csv\", sep='; ', engine='python')\n",
    "\n",
    "# join the different data files\n",
    "results_all = pd.concat([res1, res2, res3])\n",
    "\n",
    "# change the UNIX timestamp to human readable format and set it as index\n",
    "results_all[\"timestamp\"] = pd.to_datetime(results_all.timestamp, utc=True)\n",
    "#results_all.set_index(\"timestamp\", inplace=True)\n",
    "\n",
    "# get the value of BTC per pending txn\n",
    "results_all[\"btc\"] = results_all.value // 10**8\n",
    "\n",
    "# plot just to see if there are lots of whale activity\n",
    "results_all.btc.plot()\n",
    "plt.title(\"Magnitude of pending transactions\")\n",
    "plt.show()"
   ]
  },
  {
   "cell_type": "code",
   "execution_count": 6,
   "metadata": {},
   "outputs": [
    {
     "name": "stdout",
     "output_type": "stream",
     "text": [
      "Iteration: 0\n",
      "Iteration: 1\n",
      "Iteration: 2\n",
      "Iteration: 3\n",
      "Iteration: 4\n",
      "Iteration: 5\n",
      "Iteration: 6\n"
     ]
    }
   ],
   "source": [
    "dfs = []\n",
    "n_days = 7\n",
    "\n",
    "for i in range(n_days):\n",
    "    print(f\"Iteration: {i}\")\n",
    "    # get the start and end dates in timestamps\n",
    "    startDate = df.timestamp.min() + timedelta(i-1)\n",
    "    endDate = startDate + timedelta(1)\n",
    "    \n",
    "    # convert to UNIX format\n",
    "    startDate = str(round(startDate.timestamp()*10**3))\n",
    "    endDate = str(round(endDate.timestamp()*10**3))\n",
    "\n",
    "    # the url for our endpoint\n",
    "    url = \"https://web3api.io/api/v2/market/ohlcv/btc_usd/historical\"\n",
    "    \n",
    "    # our query\n",
    "    querystring = {\n",
    "        \"timeInterval\": \"minutes\", \n",
    "        \"timeFormat\": \"iso\",\n",
    "        'startDate': startDate, \n",
    "        'endDate': endDate, \n",
    "        \"exchange\": \"bitfinex\"\n",
    "    }\n",
    "    \n",
    "    # the API key\n",
    "    headers = {'x-api-key': api_key[\"AMBERDATA_API_KEY\"]}\n",
    "\n",
    "    # the response for our query\n",
    "    payload = get_response(url, headers, querystring)\n",
    "    \n",
    "    # we save the OHLCV data\n",
    "    bfx = payload['data']['bitfinex']\n",
    "\n",
    "    # get the columns and make a dataframe\n",
    "    columns = payload['metadata']['columns']\n",
    "    bfx_df = pd.DataFrame(bfx, columns=columns)\n",
    "    # append the dataframe to a list\n",
    "    dfs.append(bfx_df)\n"
   ]
  },
  {
   "cell_type": "code",
   "execution_count": 114,
   "metadata": {},
   "outputs": [],
   "source": [
    "# combine the several days of OHLCV data\n",
    "ohlcv = pd.concat(dfs)"
   ]
  },
  {
   "cell_type": "markdown",
   "metadata": {},
   "source": [
    "## Working with the OHLCV data"
   ]
  },
  {
   "cell_type": "code",
   "execution_count": 115,
   "metadata": {},
   "outputs": [],
   "source": [
    "# unify the timestamp format and set as index\n",
    "ohlcv[\"timestamp\"] = pd.to_datetime(ohlcv.timestamp)\n",
    "\n",
    "# drop OHL from the dataframe\n",
    "ohlcv.drop(['open', 'high', 'low'], axis=1, inplace=True)\n",
    "\n",
    "# select only data from our date range\n",
    "ohlcv = ohlcv[ohlcv.timestamp <= df.timestamp.max()]\n",
    "ohlcv = ohlcv[ohlcv.timestamp >= df.timestamp.min()]"
   ]
  },
  {
   "cell_type": "markdown",
   "metadata": {},
   "source": [
    "### Adding USD to Pending txns"
   ]
  },
  {
   "cell_type": "code",
   "execution_count": 116,
   "metadata": {},
   "outputs": [],
   "source": [
    "results_all[\"ts_minute\"] = results_all.timestamp.dt.round('1min')\n",
    "\n",
    "ohlcv.rename({\"timestamp\": \"ts_minute\"}, axis=1, inplace=True)\n",
    "\n",
    "df_merged = pd.merge(results_all, ohlcv, on = \"ts_minute\", how='left').dropna()"
   ]
  },
  {
   "cell_type": "code",
   "execution_count": 118,
   "metadata": {},
   "outputs": [],
   "source": [
    "df_merged[\"usd\"] = df_merged.btc*df_merged.close"
   ]
  },
  {
   "cell_type": "code",
   "execution_count": 122,
   "metadata": {},
   "outputs": [
    {
     "data": {
      "text/html": [
       "<div>\n",
       "<style scoped>\n",
       "    .dataframe tbody tr th:only-of-type {\n",
       "        vertical-align: middle;\n",
       "    }\n",
       "\n",
       "    .dataframe tbody tr th {\n",
       "        vertical-align: top;\n",
       "    }\n",
       "\n",
       "    .dataframe thead th {\n",
       "        text-align: right;\n",
       "    }\n",
       "</style>\n",
       "<table border=\"1\" class=\"dataframe\">\n",
       "  <thead>\n",
       "    <tr style=\"text-align: right;\">\n",
       "      <th></th>\n",
       "      <th>timestamp</th>\n",
       "      <th>address</th>\n",
       "      <th>value</th>\n",
       "      <th>btc</th>\n",
       "      <th>ts_minute</th>\n",
       "      <th>close</th>\n",
       "      <th>volume</th>\n",
       "      <th>usd</th>\n",
       "    </tr>\n",
       "  </thead>\n",
       "  <tbody>\n",
       "    <tr>\n",
       "      <th>2824</th>\n",
       "      <td>2020-08-10 17:59:43.711322+00:00</td>\n",
       "      <td>['15ZvUtAydQGgWWwownPEQddg2xtnrrNVM7', '15ZvUt...</td>\n",
       "      <td>725000008214</td>\n",
       "      <td>7250</td>\n",
       "      <td>2020-08-10 18:00:00+00:00</td>\n",
       "      <td>11888.658444</td>\n",
       "      <td>0.051456</td>\n",
       "      <td>8.619277e+07</td>\n",
       "    </tr>\n",
       "    <tr>\n",
       "      <th>7500</th>\n",
       "      <td>2020-08-11 10:30:52.655096+00:00</td>\n",
       "      <td>['3CpB9Wypwon6EvEDbDXS76U1xGCrtM6pQM']</td>\n",
       "      <td>425399464402</td>\n",
       "      <td>4253</td>\n",
       "      <td>2020-08-11 10:31:00+00:00</td>\n",
       "      <td>11719.972916</td>\n",
       "      <td>3.182119</td>\n",
       "      <td>4.984504e+07</td>\n",
       "    </tr>\n",
       "    <tr>\n",
       "      <th>7630</th>\n",
       "      <td>2020-08-11 10:40:52.628770+00:00</td>\n",
       "      <td>['3CpB9Wypwon6EvEDbDXS76U1xGCrtM6pQM']</td>\n",
       "      <td>425399464402</td>\n",
       "      <td>4253</td>\n",
       "      <td>2020-08-11 10:41:00+00:00</td>\n",
       "      <td>11712.000000</td>\n",
       "      <td>0.273444</td>\n",
       "      <td>4.981114e+07</td>\n",
       "    </tr>\n",
       "    <tr>\n",
       "      <th>6509</th>\n",
       "      <td>2020-08-11 08:00:09.165819+00:00</td>\n",
       "      <td>['3CpB9Wypwon6EvEDbDXS76U1xGCrtM6pQM']</td>\n",
       "      <td>425399464402</td>\n",
       "      <td>4253</td>\n",
       "      <td>2020-08-11 08:00:00+00:00</td>\n",
       "      <td>11767.000000</td>\n",
       "      <td>7.768456</td>\n",
       "      <td>5.004505e+07</td>\n",
       "    </tr>\n",
       "    <tr>\n",
       "      <th>7404</th>\n",
       "      <td>2020-08-11 10:19:33.374962+00:00</td>\n",
       "      <td>['3CpB9Wypwon6EvEDbDXS76U1xGCrtM6pQM']</td>\n",
       "      <td>425399464402</td>\n",
       "      <td>4253</td>\n",
       "      <td>2020-08-11 10:20:00+00:00</td>\n",
       "      <td>11701.169888</td>\n",
       "      <td>0.032201</td>\n",
       "      <td>4.976508e+07</td>\n",
       "    </tr>\n",
       "    <tr>\n",
       "      <th>...</th>\n",
       "      <td>...</td>\n",
       "      <td>...</td>\n",
       "      <td>...</td>\n",
       "      <td>...</td>\n",
       "      <td>...</td>\n",
       "      <td>...</td>\n",
       "      <td>...</td>\n",
       "      <td>...</td>\n",
       "    </tr>\n",
       "    <tr>\n",
       "      <th>421</th>\n",
       "      <td>2020-08-08 10:58:24.772780+00:00</td>\n",
       "      <td>'1PLfTXryE58DdbhTB15vMihN7hrkGmnMh4', '14oEdEs...</td>\n",
       "      <td>1500008655</td>\n",
       "      <td>15</td>\n",
       "      <td>2020-08-08 10:58:00+00:00</td>\n",
       "      <td>11734.977145</td>\n",
       "      <td>0.130000</td>\n",
       "      <td>1.760247e+05</td>\n",
       "    </tr>\n",
       "    <tr>\n",
       "      <th>107</th>\n",
       "      <td>2020-08-07 21:41:23.080925+00:00</td>\n",
       "      <td>'3D8DLi7AR9zsJwHV8BxjfooNaR4dBPHxnz', '3Gbmomi...</td>\n",
       "      <td>1540240941</td>\n",
       "      <td>15</td>\n",
       "      <td>2020-08-07 21:41:00+00:00</td>\n",
       "      <td>11568.000000</td>\n",
       "      <td>0.025000</td>\n",
       "      <td>1.735200e+05</td>\n",
       "    </tr>\n",
       "    <tr>\n",
       "      <th>236</th>\n",
       "      <td>2020-08-08 10:14:16.985996+00:00</td>\n",
       "      <td>'3JpHuQbo9VsU5RgzNHqwy3XyfR1iaqFFXG'</td>\n",
       "      <td>1530388677</td>\n",
       "      <td>15</td>\n",
       "      <td>2020-08-08 10:14:00+00:00</td>\n",
       "      <td>11721.000000</td>\n",
       "      <td>0.005000</td>\n",
       "      <td>1.758150e+05</td>\n",
       "    </tr>\n",
       "    <tr>\n",
       "      <th>737</th>\n",
       "      <td>2020-08-08 11:37:57.685478+00:00</td>\n",
       "      <td>'327r6SqtqXUqPAaDV9Em6gbxiP69ygPZvy'</td>\n",
       "      <td>1577791125</td>\n",
       "      <td>15</td>\n",
       "      <td>2020-08-08 11:38:00+00:00</td>\n",
       "      <td>11735.095034</td>\n",
       "      <td>0.354057</td>\n",
       "      <td>1.760264e+05</td>\n",
       "    </tr>\n",
       "    <tr>\n",
       "      <th>721</th>\n",
       "      <td>2020-08-08 11:31:27.424485+00:00</td>\n",
       "      <td>'1PLfTXryE58DdbhTB15vMihN7hrkGmnMh4', '14oEdEs...</td>\n",
       "      <td>1500008655</td>\n",
       "      <td>15</td>\n",
       "      <td>2020-08-08 11:31:00+00:00</td>\n",
       "      <td>11733.916149</td>\n",
       "      <td>0.146577</td>\n",
       "      <td>1.760087e+05</td>\n",
       "    </tr>\n",
       "  </tbody>\n",
       "</table>\n",
       "<p>8042 rows × 8 columns</p>\n",
       "</div>"
      ],
      "text/plain": [
       "                            timestamp  \\\n",
       "2824 2020-08-10 17:59:43.711322+00:00   \n",
       "7500 2020-08-11 10:30:52.655096+00:00   \n",
       "7630 2020-08-11 10:40:52.628770+00:00   \n",
       "6509 2020-08-11 08:00:09.165819+00:00   \n",
       "7404 2020-08-11 10:19:33.374962+00:00   \n",
       "...                               ...   \n",
       "421  2020-08-08 10:58:24.772780+00:00   \n",
       "107  2020-08-07 21:41:23.080925+00:00   \n",
       "236  2020-08-08 10:14:16.985996+00:00   \n",
       "737  2020-08-08 11:37:57.685478+00:00   \n",
       "721  2020-08-08 11:31:27.424485+00:00   \n",
       "\n",
       "                                                address         value   btc  \\\n",
       "2824  ['15ZvUtAydQGgWWwownPEQddg2xtnrrNVM7', '15ZvUt...  725000008214  7250   \n",
       "7500             ['3CpB9Wypwon6EvEDbDXS76U1xGCrtM6pQM']  425399464402  4253   \n",
       "7630             ['3CpB9Wypwon6EvEDbDXS76U1xGCrtM6pQM']  425399464402  4253   \n",
       "6509             ['3CpB9Wypwon6EvEDbDXS76U1xGCrtM6pQM']  425399464402  4253   \n",
       "7404             ['3CpB9Wypwon6EvEDbDXS76U1xGCrtM6pQM']  425399464402  4253   \n",
       "...                                                 ...           ...   ...   \n",
       "421   '1PLfTXryE58DdbhTB15vMihN7hrkGmnMh4', '14oEdEs...    1500008655    15   \n",
       "107   '3D8DLi7AR9zsJwHV8BxjfooNaR4dBPHxnz', '3Gbmomi...    1540240941    15   \n",
       "236                '3JpHuQbo9VsU5RgzNHqwy3XyfR1iaqFFXG'    1530388677    15   \n",
       "737                '327r6SqtqXUqPAaDV9Em6gbxiP69ygPZvy'    1577791125    15   \n",
       "721   '1PLfTXryE58DdbhTB15vMihN7hrkGmnMh4', '14oEdEs...    1500008655    15   \n",
       "\n",
       "                     ts_minute         close    volume           usd  \n",
       "2824 2020-08-10 18:00:00+00:00  11888.658444  0.051456  8.619277e+07  \n",
       "7500 2020-08-11 10:31:00+00:00  11719.972916  3.182119  4.984504e+07  \n",
       "7630 2020-08-11 10:41:00+00:00  11712.000000  0.273444  4.981114e+07  \n",
       "6509 2020-08-11 08:00:00+00:00  11767.000000  7.768456  5.004505e+07  \n",
       "7404 2020-08-11 10:20:00+00:00  11701.169888  0.032201  4.976508e+07  \n",
       "...                        ...           ...       ...           ...  \n",
       "421  2020-08-08 10:58:00+00:00  11734.977145  0.130000  1.760247e+05  \n",
       "107  2020-08-07 21:41:00+00:00  11568.000000  0.025000  1.735200e+05  \n",
       "236  2020-08-08 10:14:00+00:00  11721.000000  0.005000  1.758150e+05  \n",
       "737  2020-08-08 11:38:00+00:00  11735.095034  0.354057  1.760264e+05  \n",
       "721  2020-08-08 11:31:00+00:00  11733.916149  0.146577  1.760087e+05  \n",
       "\n",
       "[8042 rows x 8 columns]"
      ]
     },
     "execution_count": 122,
     "metadata": {},
     "output_type": "execute_result"
    }
   ],
   "source": [
    "df_merged.sort_values(\"btc\", ascending=False)"
   ]
  },
  {
   "cell_type": "markdown",
   "metadata": {},
   "source": [
    "## Plotting whale activity on price"
   ]
  },
  {
   "cell_type": "code",
   "execution_count": 71,
   "metadata": {},
   "outputs": [],
   "source": [
    "a1, b1 = res1.timestamp.min(), res1.timestamp.max()\n",
    "a2, b2 = res2.timestamp.min(), res2.timestamp.max()\n",
    "a3, b3 = res3.timestamp.min(), res3.timestamp.max()"
   ]
  },
  {
   "cell_type": "code",
   "execution_count": 74,
   "metadata": {},
   "outputs": [
    {
     "data": {
      "text/plain": [
       "<matplotlib.patches.Polygon at 0x11523c490>"
      ]
     },
     "execution_count": 74,
     "metadata": {},
     "output_type": "execute_result"
    },
    {
     "data": {
      "image/png": "[encoded data removed]",
      "text/plain": [
       "<Figure size 432x288 with 1 Axes>"
      ]
     },
     "metadata": {
      "needs_background": "light"
     },
     "output_type": "display_data"
    }
   ],
   "source": [
    "data_sorted = df.sort_values(\"value\", ascending=False)\n",
    "\n",
    "ohlcv.close.plot()\n",
    "for i in range(10):\n",
    "    plt.axvline(data_sorted.iloc[i, 0], color='r', alpha=0.5)\n",
    "    \n",
    "plt.axvspan(a1, b1, color='y', alpha=0.5, lw=0)\n",
    "plt.axvspan(a2, b2, color='y', alpha=0.5, lw=0)\n",
    "plt.axvspan(a3, b3, color='y', alpha=0.5, lw=0)\n",
    "plt.show()"
   ]
  },
  {
   "cell_type": "code",
   "execution_count": null,
   "metadata": {},
   "outputs": [],
   "source": [
    "# save current data to csv\n",
    "ohlcv.to_csv(\"../data/ohlcv.csv\", index=False)\n",
    "results_all.to_csv(\"../data/results_all.csv\", index=False)"
   ]
  }
 ],
 "metadata": {
  "kernelspec": {
   "display_name": "Python 3.7.7 64-bit ('amberdata': venv)",
   "language": "python",
   "name": "python37764bitamberdatavenv6eb9815684054413851f0606c6f4ebfd"
  },
  "language_info": {
   "codemirror_mode": {
    "name": "ipython",
    "version": 3
   },
   "file_extension": ".py",
   "mimetype": "text/x-python",
   "name": "python",
   "nbconvert_exporter": "python",
   "pygments_lexer": "ipython3",
   "version": "3.7.7"
  }
 },
 "nbformat": 4,
 "nbformat_minor": 4
}
