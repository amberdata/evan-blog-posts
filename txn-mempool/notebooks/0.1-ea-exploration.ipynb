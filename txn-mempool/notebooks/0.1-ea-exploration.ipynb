{
 "cells": [
  {
   "cell_type": "markdown",
   "metadata": {},
   "source": [
    "# Large Transactions in the Mempool\n",
    "Author: Evan Azevedo  \n",
    "Organization: Amberdata  \n",
    "\n",
    "## Table of Contents\n",
    "* Finding Whales on Ethereum from the past year\n",
    "* Exploring their mempools\n",
    "* Interpreting the results"
   ]
  },
  {
   "cell_type": "code",
   "execution_count": 1,
   "metadata": {},
   "outputs": [],
   "source": [
    "# load the packages\n",
    "import os\n",
    "import requests\n",
    "import warnings\n",
    "import datetime as dt\n",
    "import json\n",
    "\n",
    "import numpy as np\n",
    "import pandas as pd\n",
    "import matplotlib.pyplot as plt\n",
    "from dotenv import load_dotenv"
   ]
  },
  {
   "cell_type": "code",
   "execution_count": 2,
   "metadata": {},
   "outputs": [],
   "source": [
    "# helper functions\n",
    "def get_key():\n",
    "    \"Get the API key from an .env file\"\n",
    "    if \".env\" not in os.listdir(\"../\"):\n",
    "        print(\"Configuring API Key...\")\n",
    "        key = input(\"Amberdata API Key: \")\n",
    "        with open(\"../.env\", \"w\") as f:\n",
    "            f.write(f\"AMBERDATA_API_KEY={key}\\n\")\n",
    "    load_dotenv(verbose=True)\n",
    "    return {\n",
    "        \"AMBERDATA_API_KEY\": os.getenv(\"AMBERDATA_API_KEY\")\n",
    "    }\n",
    "\n",
    "def get_response(url, headers=None, queryString=None):\n",
    "    \"Get the REST response from the specified URL\"\n",
    "    if not headers:\n",
    "        headers = {'x-api-key': api_key[\"AMBERDATA_API_KEY\"]}\n",
    "    if queryString:\n",
    "        response = requests.request(\"GET\", url, headers=headers, params=queryString)\n",
    "    else:\n",
    "        response = requests.request(\"GET\", url, headers=headers)\n",
    "    response = json.loads(response.text)\n",
    "    try:\n",
    "        if response[\"title\"] == \"OK\":\n",
    "            return response[\"payload\"]\n",
    "    except Exception:\n",
    "        return None\n",
    "    \n",
    "api_key = get_key()"
   ]
  },
  {
   "cell_type": "markdown",
   "metadata": {},
   "source": [
    "## Whale Hunting"
   ]
  },
  {
   "cell_type": "code",
   "execution_count": null,
   "metadata": {},
   "outputs": [],
   "source": []
  },
  {
   "cell_type": "code",
   "execution_count": 13,
   "metadata": {},
   "outputs": [],
   "source": [
    "url = \"https://web3api.io/api/v2/transactions/\"\n",
    "\n",
    "querystring = {\"status\":\"pending\",\"size\":\"100\",\"includeFunctions\":\"false\",\n",
    "               \"includeLogs\":\"true\",\"includeTokenTransfers\":\"false\"}\n",
    "\n",
    "headers = {\n",
    "    'x-amberdata-blockchain-id': \"ethereum-mainnet\",\n",
    "    'x-api-key': api_key[\"AMBERDATA_API_KEY\"]\n",
    "    }\n",
    "\n",
    "response = get_response(url, headers, querystring)\n",
    "\n",
    "df = pd.DataFrame(response[\"records\"])"
   ]
  },
  {
   "cell_type": "code",
   "execution_count": 15,
   "metadata": {},
   "outputs": [
    {
     "data": {
      "text/plain": [
       "Index(['blockNumber', 'confirmedAt', 'confirmedHash', 'createdAt', 'from',\n",
       "       'gasLimit', 'gasPrice', 'hash', 'index', 'input', 'nonce',\n",
       "       'occurrences', 'publicKey', 'r', 'raw', 's', 'state', 'to', 'updatedAt',\n",
       "       'v', 'value', 'statusResult', 'timestamp'],\n",
       "      dtype='object')"
      ]
     },
     "execution_count": 15,
     "metadata": {},
     "output_type": "execute_result"
    }
   ],
   "source": [
    "df.columns"
   ]
  },
  {
   "cell_type": "code",
   "execution_count": null,
   "metadata": {},
   "outputs": [],
   "source": [
    " "
   ]
  }
 ],
 "metadata": {
  "kernelspec": {
   "display_name": "Python 3.7.7 64-bit ('amberdata': venv)",
   "language": "python",
   "name": "python37764bitamberdatavenv6eb9815684054413851f0606c6f4ebfd"
  },
  "language_info": {
   "codemirror_mode": {
    "name": "ipython",
    "version": 3
   },
   "file_extension": ".py",
   "mimetype": "text/x-python",
   "name": "python",
   "nbconvert_exporter": "python",
   "pygments_lexer": "ipython3",
   "version": "3.7.7"
  }
 },
 "nbformat": 4,
 "nbformat_minor": 4
}
